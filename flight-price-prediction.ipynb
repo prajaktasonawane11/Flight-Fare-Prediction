{
 "cells": [
  {
   "cell_type": "markdown",
   "id": "short-county",
   "metadata": {
    "execution": {
     "iopub.execute_input": "2021-05-23T11:01:33.962968Z",
     "iopub.status.busy": "2021-05-23T11:01:33.962579Z",
     "iopub.status.idle": "2021-05-23T11:01:33.969193Z",
     "shell.execute_reply": "2021-05-23T11:01:33.968047Z",
     "shell.execute_reply.started": "2021-05-23T11:01:33.962937Z"
    },
    "papermill": {
     "duration": 0.103085,
     "end_time": "2024-02-27T05:59:18.395077",
     "exception": false,
     "start_time": "2024-02-27T05:59:18.291992",
     "status": "completed"
    },
    "tags": []
   },
   "source": [
    "<a id = '5.5'></a>\n",
    "<p style = \"font-size : 25px; color : #000080 ; font-family : 'Comic Sans MS'; text-align : center; border-radius: 5px 5px;\"><strong>Flight Price Prediction</strong></p>"
   ]
  },
  {
   "cell_type": "markdown",
   "id": "stretch-poverty",
   "metadata": {
    "papermill": {
     "duration": 0.095477,
     "end_time": "2024-02-27T05:59:18.592877",
     "exception": false,
     "start_time": "2024-02-27T05:59:18.497400",
     "status": "completed"
    },
    "tags": []
   },
   "source": [
    "<a id = '5.5'></a>\n",
    "<p style = \"font-size : 20px; color : #000000 ; font-family : 'Arial MT'; border-radius: 5px 5px;\">Welcome to the Flight Fare Prediction project repository! In this project, we aim to predict the fare of airline tickets based on various factors such as flight duration, days left for departure, arrival time, departure time, and more. We leverage the power of Artificial Intelligence (AI) and Machine Learning (ML) techniques to build predictive models that can effectively estimate the price of airline tickets.</p>"
   ]
  },
  {
   "cell_type": "markdown",
   "id": "robust-jumping",
   "metadata": {
    "papermill": {
     "duration": 0.095772,
     "end_time": "2024-02-27T05:59:18.783944",
     "exception": false,
     "start_time": "2024-02-27T05:59:18.688172",
     "status": "completed"
    },
    "tags": []
   },
   "source": [
    "<a id = '5.5'></a>\n",
    "<p style = \"font-size : 25px; color : #000080 ; font-family : 'Comic Sans MS'; border-radius: 5px 5px;\"><strong>Project Overview</strong></p>\n",
    "\n",
    "<a id = '5.5'></a>\n",
    "<p style = \"font-size : 20px; color : #000000 ; font-family : 'Arial MT'; border-radius: 5px 5px;\">Airline ticket pricing has become increasingly complex due to factors such as demand fluctuations, route popularity, and seasonal trends. To address this complexity, we utilize advanced ML algorithms to analyze historical data and predict future ticket prices accurately.</p>"
   ]
  },
  {
   "cell_type": "markdown",
   "id": "unable-constitutional",
   "metadata": {
    "papermill": {
     "duration": 0.093502,
     "end_time": "2024-02-27T05:59:18.973379",
     "exception": false,
     "start_time": "2024-02-27T05:59:18.879877",
     "status": "completed"
    },
    "tags": []
   },
   "source": [
    "<a id = '5.5'></a>\n",
    "<p style = \"font-size : 22px; color : #000080 ; font-family : 'Comic Sans MS'; border-radius: 5px 5px;\"><strong>1. Import All Required Libraries</strong></p>"
   ]
  },
  {
   "cell_type": "code",
   "execution_count": 1,
   "id": "ultimate-local",
   "metadata": {
    "execution": {
     "iopub.execute_input": "2024-02-27T05:59:19.172725Z",
     "iopub.status.busy": "2024-02-27T05:59:19.171243Z",
     "iopub.status.idle": "2024-02-27T05:59:20.323806Z",
     "shell.execute_reply": "2024-02-27T05:59:20.322979Z",
     "shell.execute_reply.started": "2024-02-27T05:33:15.723849Z"
    },
    "papermill": {
     "duration": 1.252967,
     "end_time": "2024-02-27T05:59:20.324010",
     "exception": false,
     "start_time": "2024-02-27T05:59:19.071043",
     "status": "completed"
    },
    "tags": []
   },
   "outputs": [],
   "source": [
    "#importing libraries\n",
    "import pandas as pd \n",
    "import numpy as np \n",
    "import seaborn as sns \n",
    "import matplotlib.pyplot as plt\n",
    "from sklearn.preprocessing import StandardScaler\n",
    "from sklearn.model_selection import train_test_split,GridSearchCV\n",
    "from sklearn.metrics import accuracy_score,confusion_matrix\n",
    "\n",
    "import warnings\n",
    "warnings.filterwarnings('ignore')\n"
   ]
  },
  {
   "cell_type": "markdown",
   "id": "filled-buddy",
   "metadata": {
    "papermill": {
     "duration": 0.098542,
     "end_time": "2024-02-27T05:59:20.523883",
     "exception": false,
     "start_time": "2024-02-27T05:59:20.425341",
     "status": "completed"
    },
    "tags": []
   },
   "source": [
    "<a id = '5.5'></a>\n",
    "<p style = \"font-size : 22px; color : #000080 ; font-family : 'Comic Sans MS'; border-radius: 5px 5px;\"><strong>2. Importing Dataset and Information about Data</strong></p>"
   ]
  },
  {
   "cell_type": "markdown",
   "id": "boxed-trigger",
   "metadata": {
    "papermill": {
     "duration": 0.095724,
     "end_time": "2024-02-27T05:59:20.716524",
     "exception": false,
     "start_time": "2024-02-27T05:59:20.620800",
     "status": "completed"
    },
    "tags": []
   },
   "source": [
    "<a id = '5.5'></a>\n",
    "<p style = \"font-size : 20px; color : #000000 ; font-family : 'Arial MT'; border-radius: 5px 5px;\">The dataset used in this project contains information about airline tickets, including:</p>\n",
    "\n",
    "* <p style = \"font-size : 20px; color : #000000 ; font-family : 'Arial MT'; border-radius: 5px 5px;\">Airline: The name of the airline company.</p>\n",
    "* <p style = \"font-size : 20px; color : #000000 ; font-family : 'Arial MT'; border-radius: 5px 5px;\">Date_of_Journey: The date of the journey.</p>\n",
    "* <p style = \"font-size : 20px; color : #000000 ; font-family : 'Arial MT'; border-radius: 5px 5px;\">Source: The origin airport.</p>\n",
    "* <p style = \"font-size : 20px; color : #000000 ; font-family : 'Arial MT'; border-radius: 5px 5px;\">Destination: The destination airport.</p>\n",
    "* <p style = \"font-size : 20px; color : #000000 ; font-family : 'Arial MT'; border-radius: 5px 5px;\">Route: The flight route.</p>\n",
    "* <p style = \"font-size : 20px; color : #000000 ; font-family : 'Arial MT'; border-radius: 5px 5px;\">Dep_Time: The departure time.</p>\n",
    "* <p style = \"font-size : 20px; color : #000000 ; font-family : 'Arial MT'; border-radius: 5px 5px;\">Arrival_Time: The arrival time.</p>\n",
    "* <p style = \"font-size : 20px; color : #000000 ; font-family : 'Arial MT'; border-radius: 5px 5px;\">Duration: The duration of the flight.</p>\n",
    "* <p style = \"font-size : 20px; color : #000000 ; font-family : 'Arial MT'; border-radius: 5px 5px;\">Total_Stops: The total number of stops during the journey.</p>\n",
    "* <p style = \"font-size : 20px; color : #000000 ; font-family : 'Arial MT'; border-radius: 5px 5px;\">Additional_Info: Additional information about the flight.</p>\n",
    "* <p style = \"font-size : 20px; color : #000000 ; font-family : 'Arial MT'; border-radius: 5px 5px;\">Price: The price of the airline ticket.</p>           "
   ]
  },
  {
   "cell_type": "code",
   "execution_count": 2,
   "id": "constitutional-accreditation",
   "metadata": {
    "execution": {
     "iopub.execute_input": "2024-02-27T05:59:20.916245Z",
     "iopub.status.busy": "2024-02-27T05:59:20.915375Z",
     "iopub.status.idle": "2024-02-27T05:59:31.706097Z",
     "shell.execute_reply": "2024-02-27T05:59:31.705390Z",
     "shell.execute_reply.started": "2024-02-27T05:33:20.677570Z"
    },
    "papermill": {
     "duration": 10.892581,
     "end_time": "2024-02-27T05:59:31.706268",
     "exception": false,
     "start_time": "2024-02-27T05:59:20.813687",
     "status": "completed"
    },
    "tags": []
   },
   "outputs": [
    {
     "name": "stdout",
     "output_type": "stream",
     "text": [
      "Collecting openpyxl\r\n",
      "  Downloading openpyxl-3.1.2-py2.py3-none-any.whl (249 kB)\r\n",
      "\u001b[K     |████████████████████████████████| 249 kB 1.4 MB/s \r\n",
      "\u001b[?25hCollecting et-xmlfile\r\n",
      "  Downloading et_xmlfile-1.1.0-py3-none-any.whl (4.7 kB)\r\n",
      "Installing collected packages: et-xmlfile, openpyxl\r\n",
      "Successfully installed et-xmlfile-1.1.0 openpyxl-3.1.2\r\n"
     ]
    }
   ],
   "source": [
    "# Installing to openpyxl to read excel files of all versions:\n",
    "!pip install openpyxl"
   ]
  },
  {
   "cell_type": "code",
   "execution_count": 3,
   "id": "statistical-afternoon",
   "metadata": {
    "execution": {
     "iopub.execute_input": "2024-02-27T05:59:31.912606Z",
     "iopub.status.busy": "2024-02-27T05:59:31.911467Z",
     "iopub.status.idle": "2024-02-27T05:59:35.321793Z",
     "shell.execute_reply": "2024-02-27T05:59:35.320934Z",
     "shell.execute_reply.started": "2024-02-27T05:33:32.437926Z"
    },
    "papermill": {
     "duration": 3.515657,
     "end_time": "2024-02-27T05:59:35.321973",
     "exception": false,
     "start_time": "2024-02-27T05:59:31.806316",
     "status": "completed"
    },
    "tags": []
   },
   "outputs": [
    {
     "data": {
      "text/html": [
       "<div>\n",
       "<style scoped>\n",
       "    .dataframe tbody tr th:only-of-type {\n",
       "        vertical-align: middle;\n",
       "    }\n",
       "\n",
       "    .dataframe tbody tr th {\n",
       "        vertical-align: top;\n",
       "    }\n",
       "\n",
       "    .dataframe thead th {\n",
       "        text-align: right;\n",
       "    }\n",
       "</style>\n",
       "<table border=\"1\" class=\"dataframe\">\n",
       "  <thead>\n",
       "    <tr style=\"text-align: right;\">\n",
       "      <th></th>\n",
       "      <th>Airline</th>\n",
       "      <th>Date_of_Journey</th>\n",
       "      <th>Source</th>\n",
       "      <th>Destination</th>\n",
       "      <th>Route</th>\n",
       "      <th>Dep_Time</th>\n",
       "      <th>Arrival_Time</th>\n",
       "      <th>Duration</th>\n",
       "      <th>Total_Stops</th>\n",
       "      <th>Additional_Info</th>\n",
       "      <th>Price</th>\n",
       "    </tr>\n",
       "  </thead>\n",
       "  <tbody>\n",
       "    <tr>\n",
       "      <th>0</th>\n",
       "      <td>IndiGo</td>\n",
       "      <td>24/03/2019</td>\n",
       "      <td>Banglore</td>\n",
       "      <td>New Delhi</td>\n",
       "      <td>BLR → DEL</td>\n",
       "      <td>22:20</td>\n",
       "      <td>01:10 22 Mar</td>\n",
       "      <td>2h 50m</td>\n",
       "      <td>non-stop</td>\n",
       "      <td>No info</td>\n",
       "      <td>3897</td>\n",
       "    </tr>\n",
       "    <tr>\n",
       "      <th>1</th>\n",
       "      <td>Air India</td>\n",
       "      <td>1/05/2019</td>\n",
       "      <td>Kolkata</td>\n",
       "      <td>Banglore</td>\n",
       "      <td>CCU → IXR → BBI → BLR</td>\n",
       "      <td>05:50</td>\n",
       "      <td>13:15</td>\n",
       "      <td>7h 25m</td>\n",
       "      <td>2 stops</td>\n",
       "      <td>No info</td>\n",
       "      <td>7662</td>\n",
       "    </tr>\n",
       "    <tr>\n",
       "      <th>2</th>\n",
       "      <td>Jet Airways</td>\n",
       "      <td>9/06/2019</td>\n",
       "      <td>Delhi</td>\n",
       "      <td>Cochin</td>\n",
       "      <td>DEL → LKO → BOM → COK</td>\n",
       "      <td>09:25</td>\n",
       "      <td>04:25 10 Jun</td>\n",
       "      <td>19h</td>\n",
       "      <td>2 stops</td>\n",
       "      <td>No info</td>\n",
       "      <td>13882</td>\n",
       "    </tr>\n",
       "    <tr>\n",
       "      <th>3</th>\n",
       "      <td>IndiGo</td>\n",
       "      <td>12/05/2019</td>\n",
       "      <td>Kolkata</td>\n",
       "      <td>Banglore</td>\n",
       "      <td>CCU → NAG → BLR</td>\n",
       "      <td>18:05</td>\n",
       "      <td>23:30</td>\n",
       "      <td>5h 25m</td>\n",
       "      <td>1 stop</td>\n",
       "      <td>No info</td>\n",
       "      <td>6218</td>\n",
       "    </tr>\n",
       "    <tr>\n",
       "      <th>4</th>\n",
       "      <td>IndiGo</td>\n",
       "      <td>01/03/2019</td>\n",
       "      <td>Banglore</td>\n",
       "      <td>New Delhi</td>\n",
       "      <td>BLR → NAG → DEL</td>\n",
       "      <td>16:50</td>\n",
       "      <td>21:35</td>\n",
       "      <td>4h 45m</td>\n",
       "      <td>1 stop</td>\n",
       "      <td>No info</td>\n",
       "      <td>13302</td>\n",
       "    </tr>\n",
       "  </tbody>\n",
       "</table>\n",
       "</div>"
      ],
      "text/plain": [
       "       Airline Date_of_Journey    Source Destination                  Route  \\\n",
       "0       IndiGo      24/03/2019  Banglore   New Delhi              BLR → DEL   \n",
       "1    Air India       1/05/2019   Kolkata    Banglore  CCU → IXR → BBI → BLR   \n",
       "2  Jet Airways       9/06/2019     Delhi      Cochin  DEL → LKO → BOM → COK   \n",
       "3       IndiGo      12/05/2019   Kolkata    Banglore        CCU → NAG → BLR   \n",
       "4       IndiGo      01/03/2019  Banglore   New Delhi        BLR → NAG → DEL   \n",
       "\n",
       "  Dep_Time  Arrival_Time Duration Total_Stops Additional_Info  Price  \n",
       "0    22:20  01:10 22 Mar   2h 50m    non-stop         No info   3897  \n",
       "1    05:50         13:15   7h 25m     2 stops         No info   7662  \n",
       "2    09:25  04:25 10 Jun      19h     2 stops         No info  13882  \n",
       "3    18:05         23:30   5h 25m      1 stop         No info   6218  \n",
       "4    16:50         21:35   4h 45m      1 stop         No info  13302  "
      ]
     },
     "execution_count": 3,
     "metadata": {},
     "output_type": "execute_result"
    }
   ],
   "source": [
    "#importing data\n",
    "df=pd.read_excel('/kaggle/input/flight-fare-prediction-mh/Data_Train.xlsx')\n",
    "df.head()"
   ]
  },
  {
   "cell_type": "markdown",
   "id": "defensive-privilege",
   "metadata": {
    "papermill": {
     "duration": 0.100444,
     "end_time": "2024-02-27T05:59:35.525587",
     "exception": false,
     "start_time": "2024-02-27T05:59:35.425143",
     "status": "completed"
    },
    "tags": []
   },
   "source": [
    "<a id = '5.5'></a>\n",
    "<p style = \"font-size : 22px; color : #000080 ; font-family : 'Comic Sans MS'; border-radius: 5px 5px;\"><strong>3. Basic Understanding of Data</strong></p>"
   ]
  },
  {
   "cell_type": "code",
   "execution_count": 4,
   "id": "confirmed-separate",
   "metadata": {
    "execution": {
     "iopub.execute_input": "2024-02-27T05:59:35.760401Z",
     "iopub.status.busy": "2024-02-27T05:59:35.745123Z",
     "iopub.status.idle": "2024-02-27T05:59:35.765000Z",
     "shell.execute_reply": "2024-02-27T05:59:35.764232Z",
     "shell.execute_reply.started": "2024-02-27T05:33:38.328757Z"
    },
    "papermill": {
     "duration": 0.137847,
     "end_time": "2024-02-27T05:59:35.765162",
     "exception": false,
     "start_time": "2024-02-27T05:59:35.627315",
     "status": "completed"
    },
    "tags": []
   },
   "outputs": [
    {
     "name": "stdout",
     "output_type": "stream",
     "text": [
      "<class 'pandas.core.frame.DataFrame'>\n",
      "RangeIndex: 10683 entries, 0 to 10682\n",
      "Data columns (total 11 columns):\n",
      " #   Column           Non-Null Count  Dtype \n",
      "---  ------           --------------  ----- \n",
      " 0   Airline          10683 non-null  object\n",
      " 1   Date_of_Journey  10683 non-null  object\n",
      " 2   Source           10683 non-null  object\n",
      " 3   Destination      10683 non-null  object\n",
      " 4   Route            10682 non-null  object\n",
      " 5   Dep_Time         10683 non-null  object\n",
      " 6   Arrival_Time     10683 non-null  object\n",
      " 7   Duration         10683 non-null  object\n",
      " 8   Total_Stops      10682 non-null  object\n",
      " 9   Additional_Info  10683 non-null  object\n",
      " 10  Price            10683 non-null  int64 \n",
      "dtypes: int64(1), object(10)\n",
      "memory usage: 918.2+ KB\n"
     ]
    }
   ],
   "source": [
    "#information about the data\n",
    "df.info()   "
   ]
  },
  {
   "cell_type": "code",
   "execution_count": 5,
   "id": "distinct-preparation",
   "metadata": {
    "execution": {
     "iopub.execute_input": "2024-02-27T05:59:35.973636Z",
     "iopub.status.busy": "2024-02-27T05:59:35.972873Z",
     "iopub.status.idle": "2024-02-27T05:59:35.987964Z",
     "shell.execute_reply": "2024-02-27T05:59:35.987306Z",
     "shell.execute_reply.started": "2024-02-27T05:33:50.234481Z"
    },
    "papermill": {
     "duration": 0.123256,
     "end_time": "2024-02-27T05:59:35.988127",
     "exception": false,
     "start_time": "2024-02-27T05:59:35.864871",
     "status": "completed"
    },
    "tags": []
   },
   "outputs": [
    {
     "data": {
      "text/html": [
       "<div>\n",
       "<style scoped>\n",
       "    .dataframe tbody tr th:only-of-type {\n",
       "        vertical-align: middle;\n",
       "    }\n",
       "\n",
       "    .dataframe tbody tr th {\n",
       "        vertical-align: top;\n",
       "    }\n",
       "\n",
       "    .dataframe thead th {\n",
       "        text-align: right;\n",
       "    }\n",
       "</style>\n",
       "<table border=\"1\" class=\"dataframe\">\n",
       "  <thead>\n",
       "    <tr style=\"text-align: right;\">\n",
       "      <th></th>\n",
       "      <th>Price</th>\n",
       "    </tr>\n",
       "  </thead>\n",
       "  <tbody>\n",
       "    <tr>\n",
       "      <th>count</th>\n",
       "      <td>10683.000000</td>\n",
       "    </tr>\n",
       "    <tr>\n",
       "      <th>mean</th>\n",
       "      <td>9087.064121</td>\n",
       "    </tr>\n",
       "    <tr>\n",
       "      <th>std</th>\n",
       "      <td>4611.359167</td>\n",
       "    </tr>\n",
       "    <tr>\n",
       "      <th>min</th>\n",
       "      <td>1759.000000</td>\n",
       "    </tr>\n",
       "    <tr>\n",
       "      <th>25%</th>\n",
       "      <td>5277.000000</td>\n",
       "    </tr>\n",
       "    <tr>\n",
       "      <th>50%</th>\n",
       "      <td>8372.000000</td>\n",
       "    </tr>\n",
       "    <tr>\n",
       "      <th>75%</th>\n",
       "      <td>12373.000000</td>\n",
       "    </tr>\n",
       "    <tr>\n",
       "      <th>max</th>\n",
       "      <td>79512.000000</td>\n",
       "    </tr>\n",
       "  </tbody>\n",
       "</table>\n",
       "</div>"
      ],
      "text/plain": [
       "              Price\n",
       "count  10683.000000\n",
       "mean    9087.064121\n",
       "std     4611.359167\n",
       "min     1759.000000\n",
       "25%     5277.000000\n",
       "50%     8372.000000\n",
       "75%    12373.000000\n",
       "max    79512.000000"
      ]
     },
     "execution_count": 5,
     "metadata": {},
     "output_type": "execute_result"
    }
   ],
   "source": [
    "#describe about the data\n",
    "df.describe()"
   ]
  },
  {
   "cell_type": "code",
   "execution_count": 6,
   "id": "joint-interim",
   "metadata": {
    "execution": {
     "iopub.execute_input": "2024-02-27T05:59:36.196516Z",
     "iopub.status.busy": "2024-02-27T05:59:36.195738Z",
     "iopub.status.idle": "2024-02-27T05:59:36.201483Z",
     "shell.execute_reply": "2024-02-27T05:59:36.202246Z",
     "shell.execute_reply.started": "2024-02-27T05:33:51.317521Z"
    },
    "papermill": {
     "duration": 0.111676,
     "end_time": "2024-02-27T05:59:36.202454",
     "exception": false,
     "start_time": "2024-02-27T05:59:36.090778",
     "status": "completed"
    },
    "tags": []
   },
   "outputs": [
    {
     "data": {
      "text/plain": [
       "(10683, 11)"
      ]
     },
     "execution_count": 6,
     "metadata": {},
     "output_type": "execute_result"
    }
   ],
   "source": [
    "df.shape"
   ]
  },
  {
   "cell_type": "markdown",
   "id": "hollywood-floating",
   "metadata": {
    "papermill": {
     "duration": 0.100082,
     "end_time": "2024-02-27T05:59:36.403730",
     "exception": false,
     "start_time": "2024-02-27T05:59:36.303648",
     "status": "completed"
    },
    "tags": []
   },
   "source": [
    "<a id = '5.5'></a>\n",
    "<p style = \"font-size : 25px; color : #000080 ; font-family : 'Comic Sans MS'; text-align : center; border-radius: 5px 5px;\"><strong>Data Cleaning</strong></p>\n",
    "\n",
    "<a id = '5.5'></a>\n",
    "<p style = \"font-size : 22px; color : #000080 ; font-family : 'Comic Sans MS'; border-radius: 5px 5px;\"><strong>4. Handling Missing Values</strong></p>"
   ]
  },
  {
   "cell_type": "code",
   "execution_count": 7,
   "id": "romance-narrative",
   "metadata": {
    "execution": {
     "iopub.execute_input": "2024-02-27T05:59:36.611372Z",
     "iopub.status.busy": "2024-02-27T05:59:36.610492Z",
     "iopub.status.idle": "2024-02-27T05:59:36.630423Z",
     "shell.execute_reply": "2024-02-27T05:59:36.631051Z",
     "shell.execute_reply.started": "2024-02-27T05:33:52.958071Z"
    },
    "papermill": {
     "duration": 0.126447,
     "end_time": "2024-02-27T05:59:36.631253",
     "exception": false,
     "start_time": "2024-02-27T05:59:36.504806",
     "status": "completed"
    },
    "tags": []
   },
   "outputs": [
    {
     "data": {
      "text/plain": [
       "Airline            0\n",
       "Date_of_Journey    0\n",
       "Source             0\n",
       "Destination        0\n",
       "Route              1\n",
       "Dep_Time           0\n",
       "Arrival_Time       0\n",
       "Duration           0\n",
       "Total_Stops        1\n",
       "Additional_Info    0\n",
       "Price              0\n",
       "dtype: int64"
      ]
     },
     "execution_count": 7,
     "metadata": {},
     "output_type": "execute_result"
    }
   ],
   "source": [
    "#finding the null values\n",
    "df.isnull().sum()"
   ]
  },
  {
   "cell_type": "code",
   "execution_count": 8,
   "id": "indonesian-chase",
   "metadata": {
    "execution": {
     "iopub.execute_input": "2024-02-27T05:59:36.838165Z",
     "iopub.status.busy": "2024-02-27T05:59:36.837103Z",
     "iopub.status.idle": "2024-02-27T05:59:38.204032Z",
     "shell.execute_reply": "2024-02-27T05:59:38.203388Z",
     "shell.execute_reply.started": "2024-02-27T05:33:53.725399Z"
    },
    "papermill": {
     "duration": 1.471775,
     "end_time": "2024-02-27T05:59:38.204197",
     "exception": false,
     "start_time": "2024-02-27T05:59:36.732422",
     "status": "completed"
    },
    "tags": []
   },
   "outputs": [
    {
     "data": {
      "text/plain": [
       "<function matplotlib.pyplot.show(close=None, block=None)>"
      ]
     },
     "execution_count": 8,
     "metadata": {},
     "output_type": "execute_result"
    },
    {
     "data": {
      "image/png": "[encoded data removed]",
      "text/plain": [
       "<Figure size 1728x720 with 3 Axes>"
      ]
     },
     "metadata": {
      "needs_background": "light"
     },
     "output_type": "display_data"
    }
   ],
   "source": [
    "#Visual representation of NULL values:\n",
    "import missingno as msno\n",
    "msno.bar(df)\n",
    "plt.show"
   ]
  },
  {
   "cell_type": "markdown",
   "id": "patient-point",
   "metadata": {
    "papermill": {
     "duration": 0.103116,
     "end_time": "2024-02-27T05:59:38.412238",
     "exception": false,
     "start_time": "2024-02-27T05:59:38.309122",
     "status": "completed"
    },
    "tags": []
   },
   "source": [
    "<a id = '5.5'></a>\n",
    "<p style = \"font-size : 20px; color : #000000 ; font-family : 'Arial MT'; border-radius: 5px 5px;\">There are Missing Values in TWO of the columns - Route, Total_Stops.</p>\n",
    "\n",
    "* <a id = '5.5'></a>\n",
    "<p style = \"font-size : 20px; color : #000000 ; font-family : 'Arial MT'; border-radius: 5px 5px;\">As there are very few NULL values in the dataset, their direct deletion would have negligible impact on our subsequent processing steps.</p>"
   ]
  },
  {
   "cell_type": "code",
   "execution_count": 9,
   "id": "everyday-radiation",
   "metadata": {
    "execution": {
     "iopub.execute_input": "2024-02-27T05:59:38.642649Z",
     "iopub.status.busy": "2024-02-27T05:59:38.641536Z",
     "iopub.status.idle": "2024-02-27T05:59:38.652782Z",
     "shell.execute_reply": "2024-02-27T05:59:38.651987Z",
     "shell.execute_reply.started": "2024-02-27T05:33:56.087986Z"
    },
    "papermill": {
     "duration": 0.133627,
     "end_time": "2024-02-27T05:59:38.652941",
     "exception": false,
     "start_time": "2024-02-27T05:59:38.519314",
     "status": "completed"
    },
    "tags": []
   },
   "outputs": [],
   "source": [
    "#drop the nullvalues\n",
    "df.dropna(inplace=True)"
   ]
  },
  {
   "cell_type": "code",
   "execution_count": 10,
   "id": "french-ownership",
   "metadata": {
    "execution": {
     "iopub.execute_input": "2024-02-27T05:59:38.884290Z",
     "iopub.status.busy": "2024-02-27T05:59:38.880990Z",
     "iopub.status.idle": "2024-02-27T05:59:38.889553Z",
     "shell.execute_reply": "2024-02-27T05:59:38.888785Z",
     "shell.execute_reply.started": "2024-02-27T05:33:56.854851Z"
    },
    "papermill": {
     "duration": 0.131093,
     "end_time": "2024-02-27T05:59:38.889742",
     "exception": false,
     "start_time": "2024-02-27T05:59:38.758649",
     "status": "completed"
    },
    "tags": []
   },
   "outputs": [
    {
     "data": {
      "text/plain": [
       "Airline            0\n",
       "Date_of_Journey    0\n",
       "Source             0\n",
       "Destination        0\n",
       "Route              0\n",
       "Dep_Time           0\n",
       "Arrival_Time       0\n",
       "Duration           0\n",
       "Total_Stops        0\n",
       "Additional_Info    0\n",
       "Price              0\n",
       "dtype: int64"
      ]
     },
     "execution_count": 10,
     "metadata": {},
     "output_type": "execute_result"
    }
   ],
   "source": [
    "#Check again - to confirm whether deleted or not:\n",
    "df.isnull().sum()"
   ]
  },
  {
   "cell_type": "markdown",
   "id": "terminal-raising",
   "metadata": {
    "papermill": {
     "duration": 0.108011,
     "end_time": "2024-02-27T05:59:39.104943",
     "exception": false,
     "start_time": "2024-02-27T05:59:38.996932",
     "status": "completed"
    },
    "tags": []
   },
   "source": [
    "* <a id = '5.5'></a>\n",
    "<p style = \"font-size : 20px; color : #000000 ; font-family : 'Arial MT'; border-radius: 5px 5px;\">The NULL values are deleted/handlled.</p>"
   ]
  },
  {
   "cell_type": "markdown",
   "id": "physical-vietnam",
   "metadata": {
    "papermill": {
     "duration": 0.10459,
     "end_time": "2024-02-27T05:59:39.315448",
     "exception": false,
     "start_time": "2024-02-27T05:59:39.210858",
     "status": "completed"
    },
    "tags": []
   },
   "source": [
    "<a id = '5.5'></a>\n",
    "<p style = \"font-size : 22px; color : #000080 ; font-family : 'Comic Sans MS'; border-radius: 5px 5px;\"><strong>5. Data Preprocessing</strong></p>"
   ]
  },
  {
   "cell_type": "code",
   "execution_count": 11,
   "id": "incident-drive",
   "metadata": {
    "execution": {
     "iopub.execute_input": "2024-02-27T05:59:39.534264Z",
     "iopub.status.busy": "2024-02-27T05:59:39.533260Z",
     "iopub.status.idle": "2024-02-27T05:59:39.537822Z",
     "shell.execute_reply": "2024-02-27T05:59:39.537089Z",
     "shell.execute_reply.started": "2024-02-27T05:33:59.474751Z"
    },
    "papermill": {
     "duration": 0.118081,
     "end_time": "2024-02-27T05:59:39.537977",
     "exception": false,
     "start_time": "2024-02-27T05:59:39.419896",
     "status": "completed"
    },
    "tags": []
   },
   "outputs": [
    {
     "data": {
      "text/plain": [
       "Airline            object\n",
       "Date_of_Journey    object\n",
       "Source             object\n",
       "Destination        object\n",
       "Route              object\n",
       "Dep_Time           object\n",
       "Arrival_Time       object\n",
       "Duration           object\n",
       "Total_Stops        object\n",
       "Additional_Info    object\n",
       "Price               int64\n",
       "dtype: object"
      ]
     },
     "execution_count": 11,
     "metadata": {},
     "output_type": "execute_result"
    }
   ],
   "source": [
    "#Check for datatypes of Columns - Make changes if required.\n",
    "df.dtypes"
   ]
  },
  {
   "cell_type": "markdown",
   "id": "suspected-cartridge",
   "metadata": {
    "papermill": {
     "duration": 0.103358,
     "end_time": "2024-02-27T05:59:39.746533",
     "exception": false,
     "start_time": "2024-02-27T05:59:39.643175",
     "status": "completed"
    },
    "tags": []
   },
   "source": [
    "<a id = '5.5'></a>\n",
    "<p style = \"font-size : 20px; color : #000000 ; font-family : 'Arial MT'; border-radius: 5px 5px;\">There are COLUMNS whose datatypes are not appropriate according its values. To ensure accurate predictions, we'll convert the data types of 'Date_of_journey', 'Arrival_Time', and 'Dep_Time' from object to date and time formats. This conversion will enable us to extract specific components such as day and month effectively:</p>\n",
    "\n",
    "* <a id = '5.5'></a>\n",
    "<p style = \"font-size : 20px; color : #000000 ; font-family : 'Arial MT'; border-radius: 5px 5px;\">Using dt.day allows us to extract the day component from the date.</p>\n",
    "* <a id = '5.5'></a>\n",
    "<p style = \"font-size : 20px; color : #000000 ; font-family : 'Arial MT'; border-radius: 5px 5px;\">Similarly, dt.month enables us to extract the month component from the date.</p>"
   ]
  },
  {
   "cell_type": "code",
   "execution_count": 12,
   "id": "dynamic-worth",
   "metadata": {
    "execution": {
     "iopub.execute_input": "2024-02-27T05:59:39.968289Z",
     "iopub.status.busy": "2024-02-27T05:59:39.967153Z",
     "iopub.status.idle": "2024-02-27T05:59:39.970781Z",
     "shell.execute_reply": "2024-02-27T05:59:39.970010Z",
     "shell.execute_reply.started": "2024-02-27T05:34:01.657318Z"
    },
    "papermill": {
     "duration": 0.117304,
     "end_time": "2024-02-27T05:59:39.970946",
     "exception": false,
     "start_time": "2024-02-27T05:59:39.853642",
     "status": "completed"
    },
    "tags": []
   },
   "outputs": [],
   "source": [
    "#Create a function to change the datatype to its appropriate type:\n",
    "def change_into_datetime(col):\n",
    "    df[col]=pd.to_datetime(df[col])"
   ]
  },
  {
   "cell_type": "code",
   "execution_count": 13,
   "id": "every-enhancement",
   "metadata": {
    "execution": {
     "iopub.execute_input": "2024-02-27T05:59:40.187807Z",
     "iopub.status.busy": "2024-02-27T05:59:40.187034Z",
     "iopub.status.idle": "2024-02-27T05:59:40.189901Z",
     "shell.execute_reply": "2024-02-27T05:59:40.190449Z",
     "shell.execute_reply.started": "2024-02-27T05:34:02.809732Z"
    },
    "papermill": {
     "duration": 0.114657,
     "end_time": "2024-02-27T05:59:40.190635",
     "exception": false,
     "start_time": "2024-02-27T05:59:40.075978",
     "status": "completed"
    },
    "tags": []
   },
   "outputs": [
    {
     "data": {
      "text/plain": [
       "Index(['Airline', 'Date_of_Journey', 'Source', 'Destination', 'Route',\n",
       "       'Dep_Time', 'Arrival_Time', 'Duration', 'Total_Stops',\n",
       "       'Additional_Info', 'Price'],\n",
       "      dtype='object')"
      ]
     },
     "execution_count": 13,
     "metadata": {},
     "output_type": "execute_result"
    }
   ],
   "source": [
    "#List of Columns:\n",
    "df.columns"
   ]
  },
  {
   "cell_type": "code",
   "execution_count": 14,
   "id": "endangered-majority",
   "metadata": {
    "execution": {
     "iopub.execute_input": "2024-02-27T05:59:40.410605Z",
     "iopub.status.busy": "2024-02-27T05:59:40.409802Z",
     "iopub.status.idle": "2024-02-27T05:59:40.566859Z",
     "shell.execute_reply": "2024-02-27T05:59:40.566159Z",
     "shell.execute_reply.started": "2024-02-27T05:34:03.838111Z"
    },
    "papermill": {
     "duration": 0.270477,
     "end_time": "2024-02-27T05:59:40.567035",
     "exception": false,
     "start_time": "2024-02-27T05:59:40.296558",
     "status": "completed"
    },
    "tags": []
   },
   "outputs": [],
   "source": [
    "#Iterate through all the columns for changing thier dataypes using the above function:\n",
    "for i in ['Date_of_Journey','Dep_Time', 'Arrival_Time']:\n",
    "    change_into_datetime(i)"
   ]
  },
  {
   "cell_type": "code",
   "execution_count": 15,
   "id": "spatial-sperm",
   "metadata": {
    "execution": {
     "iopub.execute_input": "2024-02-27T05:59:40.788466Z",
     "iopub.status.busy": "2024-02-27T05:59:40.787642Z",
     "iopub.status.idle": "2024-02-27T05:59:40.791751Z",
     "shell.execute_reply": "2024-02-27T05:59:40.791030Z",
     "shell.execute_reply.started": "2024-02-27T05:34:05.294171Z"
    },
    "papermill": {
     "duration": 0.117433,
     "end_time": "2024-02-27T05:59:40.791902",
     "exception": false,
     "start_time": "2024-02-27T05:59:40.674469",
     "status": "completed"
    },
    "tags": []
   },
   "outputs": [
    {
     "data": {
      "text/plain": [
       "Airline                    object\n",
       "Date_of_Journey    datetime64[ns]\n",
       "Source                     object\n",
       "Destination                object\n",
       "Route                      object\n",
       "Dep_Time           datetime64[ns]\n",
       "Arrival_Time       datetime64[ns]\n",
       "Duration                   object\n",
       "Total_Stops                object\n",
       "Additional_Info            object\n",
       "Price                       int64\n",
       "dtype: object"
      ]
     },
     "execution_count": 15,
     "metadata": {},
     "output_type": "execute_result"
    }
   ],
   "source": [
    "#Check for datatypes of columns again:\n",
    "df.dtypes"
   ]
  },
  {
   "cell_type": "markdown",
   "id": "worldwide-nomination",
   "metadata": {
    "papermill": {
     "duration": 0.108876,
     "end_time": "2024-02-27T05:59:41.006873",
     "exception": false,
     "start_time": "2024-02-27T05:59:40.897997",
     "status": "completed"
    },
    "tags": []
   },
   "source": [
    "* <p style = \"font-size : 20px; color : #000000 ; font-family : 'Arial MT'; border-radius: 5px 5px;\">After extracting the day and month from the 'Date_of_Journey' column and storing them in two separate columns, the original 'Date_of_Journey' column becomes redundant and can be dropped.</p>\n",
    " "
   ]
  },
  {
   "cell_type": "code",
   "execution_count": 16,
   "id": "maritime-commons",
   "metadata": {
    "execution": {
     "iopub.execute_input": "2024-02-27T05:59:41.227890Z",
     "iopub.status.busy": "2024-02-27T05:59:41.227025Z",
     "iopub.status.idle": "2024-02-27T05:59:41.235801Z",
     "shell.execute_reply": "2024-02-27T05:59:41.235078Z",
     "shell.execute_reply.started": "2024-02-27T05:34:07.285100Z"
    },
    "papermill": {
     "duration": 0.119987,
     "end_time": "2024-02-27T05:59:41.235965",
     "exception": false,
     "start_time": "2024-02-27T05:59:41.115978",
     "status": "completed"
    },
    "tags": []
   },
   "outputs": [],
   "source": [
    "df['journey_day']=df['Date_of_Journey'].dt.day\n",
    "df['journey_month']=df['Date_of_Journey'].dt.month"
   ]
  },
  {
   "cell_type": "code",
   "execution_count": 17,
   "id": "approximate-contrary",
   "metadata": {
    "execution": {
     "iopub.execute_input": "2024-02-27T05:59:41.471059Z",
     "iopub.status.busy": "2024-02-27T05:59:41.469794Z",
     "iopub.status.idle": "2024-02-27T05:59:41.474526Z",
     "shell.execute_reply": "2024-02-27T05:59:41.473917Z",
     "shell.execute_reply.started": "2024-02-27T05:34:08.116606Z"
    },
    "papermill": {
     "duration": 0.130432,
     "end_time": "2024-02-27T05:59:41.474725",
     "exception": false,
     "start_time": "2024-02-27T05:59:41.344293",
     "status": "completed"
    },
    "tags": []
   },
   "outputs": [
    {
     "data": {
      "text/html": [
       "<div>\n",
       "<style scoped>\n",
       "    .dataframe tbody tr th:only-of-type {\n",
       "        vertical-align: middle;\n",
       "    }\n",
       "\n",
       "    .dataframe tbody tr th {\n",
       "        vertical-align: top;\n",
       "    }\n",
       "\n",
       "    .dataframe thead th {\n",
       "        text-align: right;\n",
       "    }\n",
       "</style>\n",
       "<table border=\"1\" class=\"dataframe\">\n",
       "  <thead>\n",
       "    <tr style=\"text-align: right;\">\n",
       "      <th></th>\n",
       "      <th>Airline</th>\n",
       "      <th>Date_of_Journey</th>\n",
       "      <th>Source</th>\n",
       "      <th>Destination</th>\n",
       "      <th>Route</th>\n",
       "      <th>Dep_Time</th>\n",
       "      <th>Arrival_Time</th>\n",
       "      <th>Duration</th>\n",
       "      <th>Total_Stops</th>\n",
       "      <th>Additional_Info</th>\n",
       "      <th>Price</th>\n",
       "      <th>journey_day</th>\n",
       "      <th>journey_month</th>\n",
       "    </tr>\n",
       "  </thead>\n",
       "  <tbody>\n",
       "    <tr>\n",
       "      <th>0</th>\n",
       "      <td>IndiGo</td>\n",
       "      <td>2019-03-24</td>\n",
       "      <td>Banglore</td>\n",
       "      <td>New Delhi</td>\n",
       "      <td>BLR → DEL</td>\n",
       "      <td>2024-02-27 22:20:00</td>\n",
       "      <td>2024-03-22 01:10:00</td>\n",
       "      <td>2h 50m</td>\n",
       "      <td>non-stop</td>\n",
       "      <td>No info</td>\n",
       "      <td>3897</td>\n",
       "      <td>24</td>\n",
       "      <td>3</td>\n",
       "    </tr>\n",
       "    <tr>\n",
       "      <th>1</th>\n",
       "      <td>Air India</td>\n",
       "      <td>2019-01-05</td>\n",
       "      <td>Kolkata</td>\n",
       "      <td>Banglore</td>\n",
       "      <td>CCU → IXR → BBI → BLR</td>\n",
       "      <td>2024-02-27 05:50:00</td>\n",
       "      <td>2024-02-27 13:15:00</td>\n",
       "      <td>7h 25m</td>\n",
       "      <td>2 stops</td>\n",
       "      <td>No info</td>\n",
       "      <td>7662</td>\n",
       "      <td>5</td>\n",
       "      <td>1</td>\n",
       "    </tr>\n",
       "    <tr>\n",
       "      <th>2</th>\n",
       "      <td>Jet Airways</td>\n",
       "      <td>2019-09-06</td>\n",
       "      <td>Delhi</td>\n",
       "      <td>Cochin</td>\n",
       "      <td>DEL → LKO → BOM → COK</td>\n",
       "      <td>2024-02-27 09:25:00</td>\n",
       "      <td>2024-06-10 04:25:00</td>\n",
       "      <td>19h</td>\n",
       "      <td>2 stops</td>\n",
       "      <td>No info</td>\n",
       "      <td>13882</td>\n",
       "      <td>6</td>\n",
       "      <td>9</td>\n",
       "    </tr>\n",
       "    <tr>\n",
       "      <th>3</th>\n",
       "      <td>IndiGo</td>\n",
       "      <td>2019-12-05</td>\n",
       "      <td>Kolkata</td>\n",
       "      <td>Banglore</td>\n",
       "      <td>CCU → NAG → BLR</td>\n",
       "      <td>2024-02-27 18:05:00</td>\n",
       "      <td>2024-02-27 23:30:00</td>\n",
       "      <td>5h 25m</td>\n",
       "      <td>1 stop</td>\n",
       "      <td>No info</td>\n",
       "      <td>6218</td>\n",
       "      <td>5</td>\n",
       "      <td>12</td>\n",
       "    </tr>\n",
       "    <tr>\n",
       "      <th>4</th>\n",
       "      <td>IndiGo</td>\n",
       "      <td>2019-01-03</td>\n",
       "      <td>Banglore</td>\n",
       "      <td>New Delhi</td>\n",
       "      <td>BLR → NAG → DEL</td>\n",
       "      <td>2024-02-27 16:50:00</td>\n",
       "      <td>2024-02-27 21:35:00</td>\n",
       "      <td>4h 45m</td>\n",
       "      <td>1 stop</td>\n",
       "      <td>No info</td>\n",
       "      <td>13302</td>\n",
       "      <td>3</td>\n",
       "      <td>1</td>\n",
       "    </tr>\n",
       "  </tbody>\n",
       "</table>\n",
       "</div>"
      ],
      "text/plain": [
       "       Airline Date_of_Journey    Source Destination                  Route  \\\n",
       "0       IndiGo      2019-03-24  Banglore   New Delhi              BLR → DEL   \n",
       "1    Air India      2019-01-05   Kolkata    Banglore  CCU → IXR → BBI → BLR   \n",
       "2  Jet Airways      2019-09-06     Delhi      Cochin  DEL → LKO → BOM → COK   \n",
       "3       IndiGo      2019-12-05   Kolkata    Banglore        CCU → NAG → BLR   \n",
       "4       IndiGo      2019-01-03  Banglore   New Delhi        BLR → NAG → DEL   \n",
       "\n",
       "             Dep_Time        Arrival_Time Duration Total_Stops  \\\n",
       "0 2024-02-27 22:20:00 2024-03-22 01:10:00   2h 50m    non-stop   \n",
       "1 2024-02-27 05:50:00 2024-02-27 13:15:00   7h 25m     2 stops   \n",
       "2 2024-02-27 09:25:00 2024-06-10 04:25:00      19h     2 stops   \n",
       "3 2024-02-27 18:05:00 2024-02-27 23:30:00   5h 25m      1 stop   \n",
       "4 2024-02-27 16:50:00 2024-02-27 21:35:00   4h 45m      1 stop   \n",
       "\n",
       "  Additional_Info  Price  journey_day  journey_month  \n",
       "0         No info   3897           24              3  \n",
       "1         No info   7662            5              1  \n",
       "2         No info  13882            6              9  \n",
       "3         No info   6218            5             12  \n",
       "4         No info  13302            3              1  "
      ]
     },
     "execution_count": 17,
     "metadata": {},
     "output_type": "execute_result"
    }
   ],
   "source": [
    "df.head(5)"
   ]
  },
  {
   "cell_type": "code",
   "execution_count": 18,
   "id": "neural-paradise",
   "metadata": {
    "execution": {
     "iopub.execute_input": "2024-02-27T05:59:41.693196Z",
     "iopub.status.busy": "2024-02-27T05:59:41.692395Z",
     "iopub.status.idle": "2024-02-27T05:59:41.698259Z",
     "shell.execute_reply": "2024-02-27T05:59:41.697611Z",
     "shell.execute_reply.started": "2024-02-27T05:34:08.903290Z"
    },
    "papermill": {
     "duration": 0.116139,
     "end_time": "2024-02-27T05:59:41.698415",
     "exception": false,
     "start_time": "2024-02-27T05:59:41.582276",
     "status": "completed"
    },
    "tags": []
   },
   "outputs": [],
   "source": [
    "#Drop the Date_of_Journey column:\n",
    "df.drop('Date_of_Journey', axis=1, inplace=True)"
   ]
  },
  {
   "cell_type": "markdown",
   "id": "dressed-blocking",
   "metadata": {
    "papermill": {
     "duration": 0.105073,
     "end_time": "2024-02-27T05:59:41.908541",
     "exception": false,
     "start_time": "2024-02-27T05:59:41.803468",
     "status": "completed"
    },
    "tags": []
   },
   "source": [
    "* <p style = \"font-size : 20px; color : #000000 ; font-family : 'Arial MT'; border-radius: 5px 5px;\">We'll extract the hour and minute information from both the 'Arrival_Time' and 'Dep_Time' features and create new columns for each. Once this information is extracted, the original 'Arrival_Time' and 'Dep_Time' columns can be dropped to maintain data clarity and reduce redundancy.</p>\n",
    " \n",
    "\n"
   ]
  },
  {
   "cell_type": "code",
   "execution_count": 19,
   "id": "elementary-damage",
   "metadata": {
    "execution": {
     "iopub.execute_input": "2024-02-27T05:59:42.132522Z",
     "iopub.status.busy": "2024-02-27T05:59:42.131763Z",
     "iopub.status.idle": "2024-02-27T05:59:42.135440Z",
     "shell.execute_reply": "2024-02-27T05:59:42.134867Z",
     "shell.execute_reply.started": "2024-02-27T05:34:10.740102Z"
    },
    "papermill": {
     "duration": 0.115685,
     "end_time": "2024-02-27T05:59:42.135599",
     "exception": false,
     "start_time": "2024-02-27T05:59:42.019914",
     "status": "completed"
    },
    "tags": []
   },
   "outputs": [],
   "source": [
    "# function for extracting hour and minutes\n",
    "def extract_hour(data,col):\n",
    "    data[col+'_hour']=data[col].dt.hour\n",
    "    \n",
    "def extract_min(data,col):\n",
    "    data[col+'_min']=data[col].dt.minute\n",
    "\n",
    "def drop_col(data,col):\n",
    "    data.drop(col,axis=1,inplace=True)"
   ]
  },
  {
   "cell_type": "code",
   "execution_count": 20,
   "id": "multiple-think",
   "metadata": {
    "execution": {
     "iopub.execute_input": "2024-02-27T05:59:42.353791Z",
     "iopub.status.busy": "2024-02-27T05:59:42.353025Z",
     "iopub.status.idle": "2024-02-27T05:59:42.364699Z",
     "shell.execute_reply": "2024-02-27T05:59:42.363983Z",
     "shell.execute_reply.started": "2024-02-27T05:34:11.647745Z"
    },
    "papermill": {
     "duration": 0.124107,
     "end_time": "2024-02-27T05:59:42.364868",
     "exception": false,
     "start_time": "2024-02-27T05:59:42.240761",
     "status": "completed"
    },
    "tags": []
   },
   "outputs": [],
   "source": [
    "# call the function\n",
    "# Departure time is when a plane leaves the gate. \n",
    "# Similar to Date_of_Journey we can extract values from Dep_Time\n",
    "extract_hour(df,'Dep_Time')\n",
    "\n",
    "#extracting minutes\n",
    "extract_min(df,'Dep_Time')\n",
    "\n",
    "#drop the column\n",
    "drop_col(df,'Dep_Time')"
   ]
  },
  {
   "cell_type": "code",
   "execution_count": 21,
   "id": "viral-brook",
   "metadata": {
    "execution": {
     "iopub.execute_input": "2024-02-27T05:59:42.581321Z",
     "iopub.status.busy": "2024-02-27T05:59:42.580170Z",
     "iopub.status.idle": "2024-02-27T05:59:42.591688Z",
     "shell.execute_reply": "2024-02-27T05:59:42.590881Z",
     "shell.execute_reply.started": "2024-02-27T05:34:13.218398Z"
    },
    "papermill": {
     "duration": 0.122226,
     "end_time": "2024-02-27T05:59:42.591849",
     "exception": false,
     "start_time": "2024-02-27T05:59:42.469623",
     "status": "completed"
    },
    "tags": []
   },
   "outputs": [],
   "source": [
    "#extracting hour\n",
    "extract_hour(df,'Arrival_Time')\n",
    "\n",
    "#extracting min\n",
    "extract_min(df,'Arrival_Time')\n",
    "\n",
    "#drop the column\n",
    "drop_col(df,'Arrival_Time')"
   ]
  },
  {
   "cell_type": "code",
   "execution_count": 22,
   "id": "comparable-orange",
   "metadata": {
    "execution": {
     "iopub.execute_input": "2024-02-27T05:59:42.820705Z",
     "iopub.status.busy": "2024-02-27T05:59:42.819607Z",
     "iopub.status.idle": "2024-02-27T05:59:42.824921Z",
     "shell.execute_reply": "2024-02-27T05:59:42.824248Z",
     "shell.execute_reply.started": "2024-02-27T05:34:14.085442Z"
    },
    "papermill": {
     "duration": 0.12856,
     "end_time": "2024-02-27T05:59:42.825099",
     "exception": false,
     "start_time": "2024-02-27T05:59:42.696539",
     "status": "completed"
    },
    "tags": []
   },
   "outputs": [
    {
     "data": {
      "text/html": [
       "<div>\n",
       "<style scoped>\n",
       "    .dataframe tbody tr th:only-of-type {\n",
       "        vertical-align: middle;\n",
       "    }\n",
       "\n",
       "    .dataframe tbody tr th {\n",
       "        vertical-align: top;\n",
       "    }\n",
       "\n",
       "    .dataframe thead th {\n",
       "        text-align: right;\n",
       "    }\n",
       "</style>\n",
       "<table border=\"1\" class=\"dataframe\">\n",
       "  <thead>\n",
       "    <tr style=\"text-align: right;\">\n",
       "      <th></th>\n",
       "      <th>Airline</th>\n",
       "      <th>Source</th>\n",
       "      <th>Destination</th>\n",
       "      <th>Route</th>\n",
       "      <th>Duration</th>\n",
       "      <th>Total_Stops</th>\n",
       "      <th>Additional_Info</th>\n",
       "      <th>Price</th>\n",
       "      <th>journey_day</th>\n",
       "      <th>journey_month</th>\n",
       "      <th>Dep_Time_hour</th>\n",
       "      <th>Dep_Time_min</th>\n",
       "      <th>Arrival_Time_hour</th>\n",
       "      <th>Arrival_Time_min</th>\n",
       "    </tr>\n",
       "  </thead>\n",
       "  <tbody>\n",
       "    <tr>\n",
       "      <th>0</th>\n",
       "      <td>IndiGo</td>\n",
       "      <td>Banglore</td>\n",
       "      <td>New Delhi</td>\n",
       "      <td>BLR → DEL</td>\n",
       "      <td>2h 50m</td>\n",
       "      <td>non-stop</td>\n",
       "      <td>No info</td>\n",
       "      <td>3897</td>\n",
       "      <td>24</td>\n",
       "      <td>3</td>\n",
       "      <td>22</td>\n",
       "      <td>20</td>\n",
       "      <td>1</td>\n",
       "      <td>10</td>\n",
       "    </tr>\n",
       "    <tr>\n",
       "      <th>1</th>\n",
       "      <td>Air India</td>\n",
       "      <td>Kolkata</td>\n",
       "      <td>Banglore</td>\n",
       "      <td>CCU → IXR → BBI → BLR</td>\n",
       "      <td>7h 25m</td>\n",
       "      <td>2 stops</td>\n",
       "      <td>No info</td>\n",
       "      <td>7662</td>\n",
       "      <td>5</td>\n",
       "      <td>1</td>\n",
       "      <td>5</td>\n",
       "      <td>50</td>\n",
       "      <td>13</td>\n",
       "      <td>15</td>\n",
       "    </tr>\n",
       "    <tr>\n",
       "      <th>2</th>\n",
       "      <td>Jet Airways</td>\n",
       "      <td>Delhi</td>\n",
       "      <td>Cochin</td>\n",
       "      <td>DEL → LKO → BOM → COK</td>\n",
       "      <td>19h</td>\n",
       "      <td>2 stops</td>\n",
       "      <td>No info</td>\n",
       "      <td>13882</td>\n",
       "      <td>6</td>\n",
       "      <td>9</td>\n",
       "      <td>9</td>\n",
       "      <td>25</td>\n",
       "      <td>4</td>\n",
       "      <td>25</td>\n",
       "    </tr>\n",
       "    <tr>\n",
       "      <th>3</th>\n",
       "      <td>IndiGo</td>\n",
       "      <td>Kolkata</td>\n",
       "      <td>Banglore</td>\n",
       "      <td>CCU → NAG → BLR</td>\n",
       "      <td>5h 25m</td>\n",
       "      <td>1 stop</td>\n",
       "      <td>No info</td>\n",
       "      <td>6218</td>\n",
       "      <td>5</td>\n",
       "      <td>12</td>\n",
       "      <td>18</td>\n",
       "      <td>5</td>\n",
       "      <td>23</td>\n",
       "      <td>30</td>\n",
       "    </tr>\n",
       "    <tr>\n",
       "      <th>4</th>\n",
       "      <td>IndiGo</td>\n",
       "      <td>Banglore</td>\n",
       "      <td>New Delhi</td>\n",
       "      <td>BLR → NAG → DEL</td>\n",
       "      <td>4h 45m</td>\n",
       "      <td>1 stop</td>\n",
       "      <td>No info</td>\n",
       "      <td>13302</td>\n",
       "      <td>3</td>\n",
       "      <td>1</td>\n",
       "      <td>16</td>\n",
       "      <td>50</td>\n",
       "      <td>21</td>\n",
       "      <td>35</td>\n",
       "    </tr>\n",
       "  </tbody>\n",
       "</table>\n",
       "</div>"
      ],
      "text/plain": [
       "       Airline    Source Destination                  Route Duration  \\\n",
       "0       IndiGo  Banglore   New Delhi              BLR → DEL   2h 50m   \n",
       "1    Air India   Kolkata    Banglore  CCU → IXR → BBI → BLR   7h 25m   \n",
       "2  Jet Airways     Delhi      Cochin  DEL → LKO → BOM → COK      19h   \n",
       "3       IndiGo   Kolkata    Banglore        CCU → NAG → BLR   5h 25m   \n",
       "4       IndiGo  Banglore   New Delhi        BLR → NAG → DEL   4h 45m   \n",
       "\n",
       "  Total_Stops Additional_Info  Price  journey_day  journey_month  \\\n",
       "0    non-stop         No info   3897           24              3   \n",
       "1     2 stops         No info   7662            5              1   \n",
       "2     2 stops         No info  13882            6              9   \n",
       "3      1 stop         No info   6218            5             12   \n",
       "4      1 stop         No info  13302            3              1   \n",
       "\n",
       "   Dep_Time_hour  Dep_Time_min  Arrival_Time_hour  Arrival_Time_min  \n",
       "0             22            20                  1                10  \n",
       "1              5            50                 13                15  \n",
       "2              9            25                  4                25  \n",
       "3             18             5                 23                30  \n",
       "4             16            50                 21                35  "
      ]
     },
     "execution_count": 22,
     "metadata": {},
     "output_type": "execute_result"
    }
   ],
   "source": [
    "df.head()"
   ]
  },
  {
   "cell_type": "markdown",
   "id": "bronze-failing",
   "metadata": {
    "papermill": {
     "duration": 0.109497,
     "end_time": "2024-02-27T05:59:43.045509",
     "exception": false,
     "start_time": "2024-02-27T05:59:42.936012",
     "status": "completed"
    },
    "tags": []
   },
   "source": [
    "* <p style = \"font-size : 20px; color : #000000 ; font-family : 'Arial MT'; border-radius: 5px 5px;\">We'll perform preprocessing on the 'Duration' column by separating the duration into hours and minutes. This involves extracting the hour and minute components from the duration and storing them in new columns.</p>"
   ]
  },
  {
   "cell_type": "code",
   "execution_count": 23,
   "id": "infrared-california",
   "metadata": {
    "execution": {
     "iopub.execute_input": "2024-02-27T05:59:43.326472Z",
     "iopub.status.busy": "2024-02-27T05:59:43.325686Z",
     "iopub.status.idle": "2024-02-27T05:59:43.338430Z",
     "shell.execute_reply": "2024-02-27T05:59:43.337766Z",
     "shell.execute_reply.started": "2024-02-27T05:34:15.666175Z"
    },
    "papermill": {
     "duration": 0.128159,
     "end_time": "2024-02-27T05:59:43.338614",
     "exception": false,
     "start_time": "2024-02-27T05:59:43.210455",
     "status": "completed"
    },
    "tags": []
   },
   "outputs": [],
   "source": [
    "duration=list(df['Duration'])\n",
    "for i in range(len(duration)):\n",
    "    if len(duration[i].split(' '))==2:\n",
    "        pass\n",
    "    else:\n",
    "        if 'h' in duration[i]: # Check if duration contains only hour\n",
    "             duration[i]=duration[i] + ' 0m' # Adds 0 minute\n",
    "        else:\n",
    "             duration[i]='0h '+ duration[i] # Adsds 0 hours"
   ]
  },
  {
   "cell_type": "code",
   "execution_count": 24,
   "id": "boring-advantage",
   "metadata": {
    "execution": {
     "iopub.execute_input": "2024-02-27T05:59:43.563283Z",
     "iopub.status.busy": "2024-02-27T05:59:43.562449Z",
     "iopub.status.idle": "2024-02-27T05:59:43.566482Z",
     "shell.execute_reply": "2024-02-27T05:59:43.565833Z",
     "shell.execute_reply.started": "2024-02-27T05:34:16.474945Z"
    },
    "papermill": {
     "duration": 0.121026,
     "end_time": "2024-02-27T05:59:43.566643",
     "exception": false,
     "start_time": "2024-02-27T05:59:43.445617",
     "status": "completed"
    },
    "tags": []
   },
   "outputs": [],
   "source": [
    "#Store list values it into the original column:\n",
    "df['Duration']=duration"
   ]
  },
  {
   "cell_type": "code",
   "execution_count": 25,
   "id": "israeli-court",
   "metadata": {
    "execution": {
     "iopub.execute_input": "2024-02-27T05:59:43.803475Z",
     "iopub.status.busy": "2024-02-27T05:59:43.802683Z",
     "iopub.status.idle": "2024-02-27T05:59:43.808084Z",
     "shell.execute_reply": "2024-02-27T05:59:43.807452Z",
     "shell.execute_reply.started": "2024-02-27T05:34:17.319884Z"
    },
    "papermill": {
     "duration": 0.131518,
     "end_time": "2024-02-27T05:59:43.808244",
     "exception": false,
     "start_time": "2024-02-27T05:59:43.676726",
     "status": "completed"
    },
    "tags": []
   },
   "outputs": [
    {
     "data": {
      "text/html": [
       "<div>\n",
       "<style scoped>\n",
       "    .dataframe tbody tr th:only-of-type {\n",
       "        vertical-align: middle;\n",
       "    }\n",
       "\n",
       "    .dataframe tbody tr th {\n",
       "        vertical-align: top;\n",
       "    }\n",
       "\n",
       "    .dataframe thead th {\n",
       "        text-align: right;\n",
       "    }\n",
       "</style>\n",
       "<table border=\"1\" class=\"dataframe\">\n",
       "  <thead>\n",
       "    <tr style=\"text-align: right;\">\n",
       "      <th></th>\n",
       "      <th>Airline</th>\n",
       "      <th>Source</th>\n",
       "      <th>Destination</th>\n",
       "      <th>Route</th>\n",
       "      <th>Duration</th>\n",
       "      <th>Total_Stops</th>\n",
       "      <th>Additional_Info</th>\n",
       "      <th>Price</th>\n",
       "      <th>journey_day</th>\n",
       "      <th>journey_month</th>\n",
       "      <th>Dep_Time_hour</th>\n",
       "      <th>Dep_Time_min</th>\n",
       "      <th>Arrival_Time_hour</th>\n",
       "      <th>Arrival_Time_min</th>\n",
       "    </tr>\n",
       "  </thead>\n",
       "  <tbody>\n",
       "    <tr>\n",
       "      <th>0</th>\n",
       "      <td>IndiGo</td>\n",
       "      <td>Banglore</td>\n",
       "      <td>New Delhi</td>\n",
       "      <td>BLR → DEL</td>\n",
       "      <td>2h 50m</td>\n",
       "      <td>non-stop</td>\n",
       "      <td>No info</td>\n",
       "      <td>3897</td>\n",
       "      <td>24</td>\n",
       "      <td>3</td>\n",
       "      <td>22</td>\n",
       "      <td>20</td>\n",
       "      <td>1</td>\n",
       "      <td>10</td>\n",
       "    </tr>\n",
       "    <tr>\n",
       "      <th>1</th>\n",
       "      <td>Air India</td>\n",
       "      <td>Kolkata</td>\n",
       "      <td>Banglore</td>\n",
       "      <td>CCU → IXR → BBI → BLR</td>\n",
       "      <td>7h 25m</td>\n",
       "      <td>2 stops</td>\n",
       "      <td>No info</td>\n",
       "      <td>7662</td>\n",
       "      <td>5</td>\n",
       "      <td>1</td>\n",
       "      <td>5</td>\n",
       "      <td>50</td>\n",
       "      <td>13</td>\n",
       "      <td>15</td>\n",
       "    </tr>\n",
       "    <tr>\n",
       "      <th>2</th>\n",
       "      <td>Jet Airways</td>\n",
       "      <td>Delhi</td>\n",
       "      <td>Cochin</td>\n",
       "      <td>DEL → LKO → BOM → COK</td>\n",
       "      <td>19h 0m</td>\n",
       "      <td>2 stops</td>\n",
       "      <td>No info</td>\n",
       "      <td>13882</td>\n",
       "      <td>6</td>\n",
       "      <td>9</td>\n",
       "      <td>9</td>\n",
       "      <td>25</td>\n",
       "      <td>4</td>\n",
       "      <td>25</td>\n",
       "    </tr>\n",
       "    <tr>\n",
       "      <th>3</th>\n",
       "      <td>IndiGo</td>\n",
       "      <td>Kolkata</td>\n",
       "      <td>Banglore</td>\n",
       "      <td>CCU → NAG → BLR</td>\n",
       "      <td>5h 25m</td>\n",
       "      <td>1 stop</td>\n",
       "      <td>No info</td>\n",
       "      <td>6218</td>\n",
       "      <td>5</td>\n",
       "      <td>12</td>\n",
       "      <td>18</td>\n",
       "      <td>5</td>\n",
       "      <td>23</td>\n",
       "      <td>30</td>\n",
       "    </tr>\n",
       "    <tr>\n",
       "      <th>4</th>\n",
       "      <td>IndiGo</td>\n",
       "      <td>Banglore</td>\n",
       "      <td>New Delhi</td>\n",
       "      <td>BLR → NAG → DEL</td>\n",
       "      <td>4h 45m</td>\n",
       "      <td>1 stop</td>\n",
       "      <td>No info</td>\n",
       "      <td>13302</td>\n",
       "      <td>3</td>\n",
       "      <td>1</td>\n",
       "      <td>16</td>\n",
       "      <td>50</td>\n",
       "      <td>21</td>\n",
       "      <td>35</td>\n",
       "    </tr>\n",
       "  </tbody>\n",
       "</table>\n",
       "</div>"
      ],
      "text/plain": [
       "       Airline    Source Destination                  Route Duration  \\\n",
       "0       IndiGo  Banglore   New Delhi              BLR → DEL   2h 50m   \n",
       "1    Air India   Kolkata    Banglore  CCU → IXR → BBI → BLR   7h 25m   \n",
       "2  Jet Airways     Delhi      Cochin  DEL → LKO → BOM → COK   19h 0m   \n",
       "3       IndiGo   Kolkata    Banglore        CCU → NAG → BLR   5h 25m   \n",
       "4       IndiGo  Banglore   New Delhi        BLR → NAG → DEL   4h 45m   \n",
       "\n",
       "  Total_Stops Additional_Info  Price  journey_day  journey_month  \\\n",
       "0    non-stop         No info   3897           24              3   \n",
       "1     2 stops         No info   7662            5              1   \n",
       "2     2 stops         No info  13882            6              9   \n",
       "3      1 stop         No info   6218            5             12   \n",
       "4      1 stop         No info  13302            3              1   \n",
       "\n",
       "   Dep_Time_hour  Dep_Time_min  Arrival_Time_hour  Arrival_Time_min  \n",
       "0             22            20                  1                10  \n",
       "1              5            50                 13                15  \n",
       "2              9            25                  4                25  \n",
       "3             18             5                 23                30  \n",
       "4             16            50                 21                35  "
      ]
     },
     "execution_count": 25,
     "metadata": {},
     "output_type": "execute_result"
    }
   ],
   "source": [
    "df.head()"
   ]
  },
  {
   "cell_type": "code",
   "execution_count": 26,
   "id": "supported-squad",
   "metadata": {
    "execution": {
     "iopub.execute_input": "2024-02-27T05:59:44.034239Z",
     "iopub.status.busy": "2024-02-27T05:59:44.033340Z",
     "iopub.status.idle": "2024-02-27T05:59:44.037028Z",
     "shell.execute_reply": "2024-02-27T05:59:44.036395Z",
     "shell.execute_reply.started": "2024-02-27T05:34:18.064801Z"
    },
    "papermill": {
     "duration": 0.120813,
     "end_time": "2024-02-27T05:59:44.037203",
     "exception": false,
     "start_time": "2024-02-27T05:59:43.916390",
     "status": "completed"
    },
    "tags": []
   },
   "outputs": [],
   "source": [
    "#Extract Hour and Minutes from the Duration Column:\n",
    "def hour(x):\n",
    "    return x.split(' ')[0][0:-1]\n",
    "\n",
    "def minutes(x):\n",
    "    return x.split(' ')[1][0:-1]"
   ]
  },
  {
   "cell_type": "code",
   "execution_count": 27,
   "id": "included-queensland",
   "metadata": {
    "execution": {
     "iopub.execute_input": "2024-02-27T05:59:44.264772Z",
     "iopub.status.busy": "2024-02-27T05:59:44.263951Z",
     "iopub.status.idle": "2024-02-27T05:59:44.272653Z",
     "shell.execute_reply": "2024-02-27T05:59:44.271799Z",
     "shell.execute_reply.started": "2024-02-27T05:34:18.998098Z"
    },
    "papermill": {
     "duration": 0.127485,
     "end_time": "2024-02-27T05:59:44.272950",
     "exception": false,
     "start_time": "2024-02-27T05:59:44.145465",
     "status": "completed"
    },
    "tags": []
   },
   "outputs": [],
   "source": [
    "#Apply those Functions on the Duration Column:\n",
    "df['dur_hour']=df['Duration'].apply(hour)"
   ]
  },
  {
   "cell_type": "code",
   "execution_count": 28,
   "id": "bound-section",
   "metadata": {
    "execution": {
     "iopub.execute_input": "2024-02-27T05:59:44.504089Z",
     "iopub.status.busy": "2024-02-27T05:59:44.503295Z",
     "iopub.status.idle": "2024-02-27T05:59:44.510390Z",
     "shell.execute_reply": "2024-02-27T05:59:44.509785Z",
     "shell.execute_reply.started": "2024-02-27T05:34:19.950013Z"
    },
    "papermill": {
     "duration": 0.126466,
     "end_time": "2024-02-27T05:59:44.510553",
     "exception": false,
     "start_time": "2024-02-27T05:59:44.384087",
     "status": "completed"
    },
    "tags": []
   },
   "outputs": [],
   "source": [
    "df['dur_min']=df['Duration'].apply(minutes)"
   ]
  },
  {
   "cell_type": "code",
   "execution_count": 29,
   "id": "parliamentary-evolution",
   "metadata": {
    "execution": {
     "iopub.execute_input": "2024-02-27T05:59:44.729690Z",
     "iopub.status.busy": "2024-02-27T05:59:44.728923Z",
     "iopub.status.idle": "2024-02-27T05:59:44.751052Z",
     "shell.execute_reply": "2024-02-27T05:59:44.750429Z",
     "shell.execute_reply.started": "2024-02-27T05:34:21.032493Z"
    },
    "papermill": {
     "duration": 0.134057,
     "end_time": "2024-02-27T05:59:44.751218",
     "exception": false,
     "start_time": "2024-02-27T05:59:44.617161",
     "status": "completed"
    },
    "tags": []
   },
   "outputs": [
    {
     "data": {
      "text/html": [
       "<div>\n",
       "<style scoped>\n",
       "    .dataframe tbody tr th:only-of-type {\n",
       "        vertical-align: middle;\n",
       "    }\n",
       "\n",
       "    .dataframe tbody tr th {\n",
       "        vertical-align: top;\n",
       "    }\n",
       "\n",
       "    .dataframe thead th {\n",
       "        text-align: right;\n",
       "    }\n",
       "</style>\n",
       "<table border=\"1\" class=\"dataframe\">\n",
       "  <thead>\n",
       "    <tr style=\"text-align: right;\">\n",
       "      <th></th>\n",
       "      <th>Airline</th>\n",
       "      <th>Source</th>\n",
       "      <th>Destination</th>\n",
       "      <th>Route</th>\n",
       "      <th>Duration</th>\n",
       "      <th>Total_Stops</th>\n",
       "      <th>Additional_Info</th>\n",
       "      <th>Price</th>\n",
       "      <th>journey_day</th>\n",
       "      <th>journey_month</th>\n",
       "      <th>Dep_Time_hour</th>\n",
       "      <th>Dep_Time_min</th>\n",
       "      <th>Arrival_Time_hour</th>\n",
       "      <th>Arrival_Time_min</th>\n",
       "      <th>dur_hour</th>\n",
       "      <th>dur_min</th>\n",
       "    </tr>\n",
       "  </thead>\n",
       "  <tbody>\n",
       "    <tr>\n",
       "      <th>0</th>\n",
       "      <td>IndiGo</td>\n",
       "      <td>Banglore</td>\n",
       "      <td>New Delhi</td>\n",
       "      <td>BLR → DEL</td>\n",
       "      <td>2h 50m</td>\n",
       "      <td>non-stop</td>\n",
       "      <td>No info</td>\n",
       "      <td>3897</td>\n",
       "      <td>24</td>\n",
       "      <td>3</td>\n",
       "      <td>22</td>\n",
       "      <td>20</td>\n",
       "      <td>1</td>\n",
       "      <td>10</td>\n",
       "      <td>2</td>\n",
       "      <td>50</td>\n",
       "    </tr>\n",
       "    <tr>\n",
       "      <th>1</th>\n",
       "      <td>Air India</td>\n",
       "      <td>Kolkata</td>\n",
       "      <td>Banglore</td>\n",
       "      <td>CCU → IXR → BBI → BLR</td>\n",
       "      <td>7h 25m</td>\n",
       "      <td>2 stops</td>\n",
       "      <td>No info</td>\n",
       "      <td>7662</td>\n",
       "      <td>5</td>\n",
       "      <td>1</td>\n",
       "      <td>5</td>\n",
       "      <td>50</td>\n",
       "      <td>13</td>\n",
       "      <td>15</td>\n",
       "      <td>7</td>\n",
       "      <td>25</td>\n",
       "    </tr>\n",
       "    <tr>\n",
       "      <th>2</th>\n",
       "      <td>Jet Airways</td>\n",
       "      <td>Delhi</td>\n",
       "      <td>Cochin</td>\n",
       "      <td>DEL → LKO → BOM → COK</td>\n",
       "      <td>19h 0m</td>\n",
       "      <td>2 stops</td>\n",
       "      <td>No info</td>\n",
       "      <td>13882</td>\n",
       "      <td>6</td>\n",
       "      <td>9</td>\n",
       "      <td>9</td>\n",
       "      <td>25</td>\n",
       "      <td>4</td>\n",
       "      <td>25</td>\n",
       "      <td>19</td>\n",
       "      <td>0</td>\n",
       "    </tr>\n",
       "    <tr>\n",
       "      <th>3</th>\n",
       "      <td>IndiGo</td>\n",
       "      <td>Kolkata</td>\n",
       "      <td>Banglore</td>\n",
       "      <td>CCU → NAG → BLR</td>\n",
       "      <td>5h 25m</td>\n",
       "      <td>1 stop</td>\n",
       "      <td>No info</td>\n",
       "      <td>6218</td>\n",
       "      <td>5</td>\n",
       "      <td>12</td>\n",
       "      <td>18</td>\n",
       "      <td>5</td>\n",
       "      <td>23</td>\n",
       "      <td>30</td>\n",
       "      <td>5</td>\n",
       "      <td>25</td>\n",
       "    </tr>\n",
       "    <tr>\n",
       "      <th>4</th>\n",
       "      <td>IndiGo</td>\n",
       "      <td>Banglore</td>\n",
       "      <td>New Delhi</td>\n",
       "      <td>BLR → NAG → DEL</td>\n",
       "      <td>4h 45m</td>\n",
       "      <td>1 stop</td>\n",
       "      <td>No info</td>\n",
       "      <td>13302</td>\n",
       "      <td>3</td>\n",
       "      <td>1</td>\n",
       "      <td>16</td>\n",
       "      <td>50</td>\n",
       "      <td>21</td>\n",
       "      <td>35</td>\n",
       "      <td>4</td>\n",
       "      <td>45</td>\n",
       "    </tr>\n",
       "  </tbody>\n",
       "</table>\n",
       "</div>"
      ],
      "text/plain": [
       "       Airline    Source Destination                  Route Duration  \\\n",
       "0       IndiGo  Banglore   New Delhi              BLR → DEL   2h 50m   \n",
       "1    Air India   Kolkata    Banglore  CCU → IXR → BBI → BLR   7h 25m   \n",
       "2  Jet Airways     Delhi      Cochin  DEL → LKO → BOM → COK   19h 0m   \n",
       "3       IndiGo   Kolkata    Banglore        CCU → NAG → BLR   5h 25m   \n",
       "4       IndiGo  Banglore   New Delhi        BLR → NAG → DEL   4h 45m   \n",
       "\n",
       "  Total_Stops Additional_Info  Price  journey_day  journey_month  \\\n",
       "0    non-stop         No info   3897           24              3   \n",
       "1     2 stops         No info   7662            5              1   \n",
       "2     2 stops         No info  13882            6              9   \n",
       "3      1 stop         No info   6218            5             12   \n",
       "4      1 stop         No info  13302            3              1   \n",
       "\n",
       "   Dep_Time_hour  Dep_Time_min  Arrival_Time_hour  Arrival_Time_min dur_hour  \\\n",
       "0             22            20                  1                10        2   \n",
       "1              5            50                 13                15        7   \n",
       "2              9            25                  4                25       19   \n",
       "3             18             5                 23                30        5   \n",
       "4             16            50                 21                35        4   \n",
       "\n",
       "  dur_min  \n",
       "0      50  \n",
       "1      25  \n",
       "2       0  \n",
       "3      25  \n",
       "4      45  "
      ]
     },
     "execution_count": 29,
     "metadata": {},
     "output_type": "execute_result"
    }
   ],
   "source": [
    "df.head()"
   ]
  },
  {
   "cell_type": "code",
   "execution_count": 30,
   "id": "forty-flight",
   "metadata": {
    "execution": {
     "iopub.execute_input": "2024-02-27T05:59:44.999999Z",
     "iopub.status.busy": "2024-02-27T05:59:44.997933Z",
     "iopub.status.idle": "2024-02-27T05:59:45.006524Z",
     "shell.execute_reply": "2024-02-27T05:59:45.005870Z",
     "shell.execute_reply.started": "2024-02-27T05:34:22.056702Z"
    },
    "papermill": {
     "duration": 0.144523,
     "end_time": "2024-02-27T05:59:45.006711",
     "exception": false,
     "start_time": "2024-02-27T05:59:44.862188",
     "status": "completed"
    },
    "tags": []
   },
   "outputs": [],
   "source": [
    "#This is the Column which we created above. Drop the Duration Column.\n",
    "drop_col(df,'Duration')"
   ]
  },
  {
   "cell_type": "code",
   "execution_count": 31,
   "id": "dimensional-bibliography",
   "metadata": {
    "execution": {
     "iopub.execute_input": "2024-02-27T05:59:45.233530Z",
     "iopub.status.busy": "2024-02-27T05:59:45.232721Z",
     "iopub.status.idle": "2024-02-27T05:59:45.238217Z",
     "shell.execute_reply": "2024-02-27T05:59:45.237452Z",
     "shell.execute_reply.started": "2024-02-27T05:34:22.960286Z"
    },
    "papermill": {
     "duration": 0.121342,
     "end_time": "2024-02-27T05:59:45.238379",
     "exception": false,
     "start_time": "2024-02-27T05:59:45.117037",
     "status": "completed"
    },
    "tags": []
   },
   "outputs": [
    {
     "data": {
      "text/plain": [
       "Airline              object\n",
       "Source               object\n",
       "Destination          object\n",
       "Route                object\n",
       "Total_Stops          object\n",
       "Additional_Info      object\n",
       "Price                 int64\n",
       "journey_day           int64\n",
       "journey_month         int64\n",
       "Dep_Time_hour         int64\n",
       "Dep_Time_min          int64\n",
       "Arrival_Time_hour     int64\n",
       "Arrival_Time_min      int64\n",
       "dur_hour             object\n",
       "dur_min              object\n",
       "dtype: object"
      ]
     },
     "execution_count": 31,
     "metadata": {},
     "output_type": "execute_result"
    }
   ],
   "source": [
    "df.dtypes"
   ]
  },
  {
   "cell_type": "markdown",
   "id": "broke-yugoslavia",
   "metadata": {
    "papermill": {
     "duration": 0.110288,
     "end_time": "2024-02-27T05:59:45.456047",
     "exception": false,
     "start_time": "2024-02-27T05:59:45.345759",
     "status": "completed"
    },
    "tags": []
   },
   "source": [
    "* <p style = \"font-size : 20px; color : #000000 ; font-family : 'Arial MT'; border-radius: 5px 5px;\">All columns have been appropriately assigned their respective data types, except for 'dur_hour' and 'dur_min'. To ensure consistency and compatibility with the dataset, we'll proceed by typecasting these columns accordingly.</p>"
   ]
  },
  {
   "cell_type": "code",
   "execution_count": 32,
   "id": "declared-listening",
   "metadata": {
    "execution": {
     "iopub.execute_input": "2024-02-27T05:59:45.687634Z",
     "iopub.status.busy": "2024-02-27T05:59:45.686493Z",
     "iopub.status.idle": "2024-02-27T05:59:45.693804Z",
     "shell.execute_reply": "2024-02-27T05:59:45.694396Z",
     "shell.execute_reply.started": "2024-02-27T05:34:24.864750Z"
    },
    "papermill": {
     "duration": 0.127333,
     "end_time": "2024-02-27T05:59:45.694610",
     "exception": false,
     "start_time": "2024-02-27T05:59:45.567277",
     "status": "completed"
    },
    "tags": []
   },
   "outputs": [],
   "source": [
    "#Typecast the Columns:\n",
    "df['dur_hour'] = df['dur_hour'].astype(int)\n",
    "df['dur_min'] = df['dur_min'].astype(int)"
   ]
  },
  {
   "cell_type": "code",
   "execution_count": 33,
   "id": "detailed-buying",
   "metadata": {
    "execution": {
     "iopub.execute_input": "2024-02-27T05:59:45.919926Z",
     "iopub.status.busy": "2024-02-27T05:59:45.918827Z",
     "iopub.status.idle": "2024-02-27T05:59:45.926932Z",
     "shell.execute_reply": "2024-02-27T05:59:45.927464Z",
     "shell.execute_reply.started": "2024-02-27T05:34:26.679280Z"
    },
    "papermill": {
     "duration": 0.123665,
     "end_time": "2024-02-27T05:59:45.927686",
     "exception": false,
     "start_time": "2024-02-27T05:59:45.804021",
     "status": "completed"
    },
    "tags": []
   },
   "outputs": [
    {
     "data": {
      "text/plain": [
       "Airline              object\n",
       "Source               object\n",
       "Destination          object\n",
       "Route                object\n",
       "Total_Stops          object\n",
       "Additional_Info      object\n",
       "Price                 int64\n",
       "journey_day           int64\n",
       "journey_month         int64\n",
       "Dep_Time_hour         int64\n",
       "Dep_Time_min          int64\n",
       "Arrival_Time_hour     int64\n",
       "Arrival_Time_min      int64\n",
       "dur_hour              int64\n",
       "dur_min               int64\n",
       "dtype: object"
      ]
     },
     "execution_count": 33,
     "metadata": {},
     "output_type": "execute_result"
    }
   ],
   "source": [
    "df.dtypes"
   ]
  },
  {
   "cell_type": "markdown",
   "id": "forty-vertex",
   "metadata": {
    "papermill": {
     "duration": 0.110176,
     "end_time": "2024-02-27T05:59:46.149046",
     "exception": false,
     "start_time": "2024-02-27T05:59:46.038870",
     "status": "completed"
    },
    "tags": []
   },
   "source": [
    "<a id = '5.5'></a>\n",
    "<p style = \"font-size : 22px; color : #000080 ; font-family : 'Comic Sans MS'; border-radius: 5px 5px;\"><strong>5. Handling Categorical Columns</strong></p>"
   ]
  },
  {
   "cell_type": "code",
   "execution_count": 34,
   "id": "caring-capture",
   "metadata": {
    "execution": {
     "iopub.execute_input": "2024-02-27T05:59:46.372696Z",
     "iopub.status.busy": "2024-02-27T05:59:46.371486Z",
     "iopub.status.idle": "2024-02-27T05:59:46.380624Z",
     "shell.execute_reply": "2024-02-27T05:59:46.381329Z",
     "shell.execute_reply.started": "2024-02-27T05:34:28.908288Z"
    },
    "papermill": {
     "duration": 0.121648,
     "end_time": "2024-02-27T05:59:46.381558",
     "exception": false,
     "start_time": "2024-02-27T05:59:46.259910",
     "status": "completed"
    },
    "tags": []
   },
   "outputs": [
    {
     "data": {
      "text/plain": [
       "['Airline', 'Source', 'Destination', 'Route', 'Total_Stops', 'Additional_Info']"
      ]
     },
     "execution_count": 34,
     "metadata": {},
     "output_type": "execute_result"
    }
   ],
   "source": [
    "#Check for Object Datatype (Categorical Columns) and store it in a seperate list for easy processing:\n",
    "column=[column for column in df.columns if df[column].dtype=='object']\n",
    "column"
   ]
  },
  {
   "cell_type": "code",
   "execution_count": 35,
   "id": "sound-playing",
   "metadata": {
    "execution": {
     "iopub.execute_input": "2024-02-27T05:59:46.606580Z",
     "iopub.status.busy": "2024-02-27T05:59:46.605487Z",
     "iopub.status.idle": "2024-02-27T05:59:46.613357Z",
     "shell.execute_reply": "2024-02-27T05:59:46.612605Z",
     "shell.execute_reply.started": "2024-02-27T05:34:30.101249Z"
    },
    "papermill": {
     "duration": 0.121785,
     "end_time": "2024-02-27T05:59:46.613514",
     "exception": false,
     "start_time": "2024-02-27T05:59:46.491729",
     "status": "completed"
    },
    "tags": []
   },
   "outputs": [
    {
     "data": {
      "text/plain": [
       "['Price',\n",
       " 'journey_day',\n",
       " 'journey_month',\n",
       " 'Dep_Time_hour',\n",
       " 'Dep_Time_min',\n",
       " 'Arrival_Time_hour',\n",
       " 'Arrival_Time_min',\n",
       " 'dur_hour',\n",
       " 'dur_min']"
      ]
     },
     "execution_count": 35,
     "metadata": {},
     "output_type": "execute_result"
    }
   ],
   "source": [
    "# Seperate the continuous columns into seperate list:\n",
    "continuous_col =[column for column in df.columns if df[column].dtype!='object']\n",
    "continuous_col"
   ]
  },
  {
   "cell_type": "markdown",
   "id": "separate-clearance",
   "metadata": {
    "papermill": {
     "duration": 0.109134,
     "end_time": "2024-02-27T05:59:46.831606",
     "exception": false,
     "start_time": "2024-02-27T05:59:46.722472",
     "status": "completed"
    },
    "tags": []
   },
   "source": [
    "<p style = \"font-size : 20px; color : #000000 ; font-family : 'Arial MT'; border-radius: 5px 5px;\">We employ two primary encoding techniques to convert categorical data into numerical formats:</p>\n",
    "\n",
    "* <p style = \"font-size : 20px; color : #000000 ; font-family : 'Arial MT'; border-radius: 5px 5px;\">For nominal data, which lacks any inherent order, we utilize one-hot encoding.</p>\n",
    "* <p style = \"font-size : 20px; color : #000000 ; font-family : 'Arial MT'; border-radius: 5px 5px;\">On the other hand, for ordinal data that possess a defined order, we opt for label encoding.</p>"
   ]
  },
  {
   "cell_type": "code",
   "execution_count": 36,
   "id": "basic-peripheral",
   "metadata": {
    "execution": {
     "iopub.execute_input": "2024-02-27T05:59:47.060060Z",
     "iopub.status.busy": "2024-02-27T05:59:47.058977Z",
     "iopub.status.idle": "2024-02-27T05:59:47.066319Z",
     "shell.execute_reply": "2024-02-27T05:59:47.066893Z",
     "shell.execute_reply.started": "2024-02-27T05:34:32.126792Z"
    },
    "papermill": {
     "duration": 0.12473,
     "end_time": "2024-02-27T05:59:47.067100",
     "exception": false,
     "start_time": "2024-02-27T05:59:46.942370",
     "status": "completed"
    },
    "tags": []
   },
   "outputs": [],
   "source": [
    "#Create a DataFrame Called Categirical with only Categorical Columns:\n",
    "categorical = df[column]"
   ]
  },
  {
   "cell_type": "code",
   "execution_count": 37,
   "id": "cosmetic-purse",
   "metadata": {
    "execution": {
     "iopub.execute_input": "2024-02-27T05:59:47.292749Z",
     "iopub.status.busy": "2024-02-27T05:59:47.291640Z",
     "iopub.status.idle": "2024-02-27T05:59:47.307691Z",
     "shell.execute_reply": "2024-02-27T05:59:47.307016Z",
     "shell.execute_reply.started": "2024-02-27T05:34:33.194392Z"
    },
    "papermill": {
     "duration": 0.129776,
     "end_time": "2024-02-27T05:59:47.307854",
     "exception": false,
     "start_time": "2024-02-27T05:59:47.178078",
     "status": "completed"
    },
    "tags": []
   },
   "outputs": [
    {
     "data": {
      "text/html": [
       "<div>\n",
       "<style scoped>\n",
       "    .dataframe tbody tr th:only-of-type {\n",
       "        vertical-align: middle;\n",
       "    }\n",
       "\n",
       "    .dataframe tbody tr th {\n",
       "        vertical-align: top;\n",
       "    }\n",
       "\n",
       "    .dataframe thead th {\n",
       "        text-align: right;\n",
       "    }\n",
       "</style>\n",
       "<table border=\"1\" class=\"dataframe\">\n",
       "  <thead>\n",
       "    <tr style=\"text-align: right;\">\n",
       "      <th></th>\n",
       "      <th>Airline</th>\n",
       "      <th>Source</th>\n",
       "      <th>Destination</th>\n",
       "      <th>Route</th>\n",
       "      <th>Total_Stops</th>\n",
       "      <th>Additional_Info</th>\n",
       "    </tr>\n",
       "  </thead>\n",
       "  <tbody>\n",
       "    <tr>\n",
       "      <th>0</th>\n",
       "      <td>IndiGo</td>\n",
       "      <td>Banglore</td>\n",
       "      <td>New Delhi</td>\n",
       "      <td>BLR → DEL</td>\n",
       "      <td>non-stop</td>\n",
       "      <td>No info</td>\n",
       "    </tr>\n",
       "    <tr>\n",
       "      <th>1</th>\n",
       "      <td>Air India</td>\n",
       "      <td>Kolkata</td>\n",
       "      <td>Banglore</td>\n",
       "      <td>CCU → IXR → BBI → BLR</td>\n",
       "      <td>2 stops</td>\n",
       "      <td>No info</td>\n",
       "    </tr>\n",
       "    <tr>\n",
       "      <th>2</th>\n",
       "      <td>Jet Airways</td>\n",
       "      <td>Delhi</td>\n",
       "      <td>Cochin</td>\n",
       "      <td>DEL → LKO → BOM → COK</td>\n",
       "      <td>2 stops</td>\n",
       "      <td>No info</td>\n",
       "    </tr>\n",
       "    <tr>\n",
       "      <th>3</th>\n",
       "      <td>IndiGo</td>\n",
       "      <td>Kolkata</td>\n",
       "      <td>Banglore</td>\n",
       "      <td>CCU → NAG → BLR</td>\n",
       "      <td>1 stop</td>\n",
       "      <td>No info</td>\n",
       "    </tr>\n",
       "    <tr>\n",
       "      <th>4</th>\n",
       "      <td>IndiGo</td>\n",
       "      <td>Banglore</td>\n",
       "      <td>New Delhi</td>\n",
       "      <td>BLR → NAG → DEL</td>\n",
       "      <td>1 stop</td>\n",
       "      <td>No info</td>\n",
       "    </tr>\n",
       "  </tbody>\n",
       "</table>\n",
       "</div>"
      ],
      "text/plain": [
       "       Airline    Source Destination                  Route Total_Stops  \\\n",
       "0       IndiGo  Banglore   New Delhi              BLR → DEL    non-stop   \n",
       "1    Air India   Kolkata    Banglore  CCU → IXR → BBI → BLR     2 stops   \n",
       "2  Jet Airways     Delhi      Cochin  DEL → LKO → BOM → COK     2 stops   \n",
       "3       IndiGo   Kolkata    Banglore        CCU → NAG → BLR      1 stop   \n",
       "4       IndiGo  Banglore   New Delhi        BLR → NAG → DEL      1 stop   \n",
       "\n",
       "  Additional_Info  \n",
       "0         No info  \n",
       "1         No info  \n",
       "2         No info  \n",
       "3         No info  \n",
       "4         No info  "
      ]
     },
     "execution_count": 37,
     "metadata": {},
     "output_type": "execute_result"
    }
   ],
   "source": [
    "categorical.head()"
   ]
  },
  {
   "cell_type": "markdown",
   "id": "aboriginal-involvement",
   "metadata": {
    "papermill": {
     "duration": 0.11058,
     "end_time": "2024-02-27T05:59:47.530468",
     "exception": false,
     "start_time": "2024-02-27T05:59:47.419888",
     "status": "completed"
    },
    "tags": []
   },
   "source": [
    "<a id = '5.5'></a>\n",
    "<p style = \"font-size : 20px; color : #000080 ; font-family : 'Comic Sans MS'; border-radius: 5px 5px;\"><strong>5.1 Handle Airline Column:</strong></p>"
   ]
  },
  {
   "cell_type": "code",
   "execution_count": 38,
   "id": "lesbian-pollution",
   "metadata": {
    "execution": {
     "iopub.execute_input": "2024-02-27T05:59:47.754612Z",
     "iopub.status.busy": "2024-02-27T05:59:47.753426Z",
     "iopub.status.idle": "2024-02-27T05:59:47.764790Z",
     "shell.execute_reply": "2024-02-27T05:59:47.765378Z",
     "shell.execute_reply.started": "2024-02-27T05:34:34.325714Z"
    },
    "papermill": {
     "duration": 0.125386,
     "end_time": "2024-02-27T05:59:47.765588",
     "exception": false,
     "start_time": "2024-02-27T05:59:47.640202",
     "status": "completed"
    },
    "tags": []
   },
   "outputs": [
    {
     "data": {
      "text/plain": [
       "Jet Airways                          3849\n",
       "IndiGo                               2053\n",
       "Air India                            1751\n",
       "Multiple carriers                    1196\n",
       "SpiceJet                              818\n",
       "Vistara                               479\n",
       "Air Asia                              319\n",
       "GoAir                                 194\n",
       "Multiple carriers Premium economy      13\n",
       "Jet Airways Business                    6\n",
       "Vistara Premium economy                 3\n",
       "Trujet                                  1\n",
       "Name: Airline, dtype: int64"
      ]
     },
     "execution_count": 38,
     "metadata": {},
     "output_type": "execute_result"
    }
   ],
   "source": [
    "#Check for Unique Catergories in the Airline Column:\n",
    "categorical['Airline'].value_counts()"
   ]
  },
  {
   "cell_type": "code",
   "execution_count": 39,
   "id": "innocent-theater",
   "metadata": {
    "execution": {
     "iopub.execute_input": "2024-02-27T05:59:47.993339Z",
     "iopub.status.busy": "2024-02-27T05:59:47.992231Z",
     "iopub.status.idle": "2024-02-27T05:59:48.000938Z",
     "shell.execute_reply": "2024-02-27T05:59:48.001534Z",
     "shell.execute_reply.started": "2024-02-27T05:36:19.558798Z"
    },
    "papermill": {
     "duration": 0.124379,
     "end_time": "2024-02-27T05:59:48.001749",
     "exception": false,
     "start_time": "2024-02-27T05:59:47.877370",
     "status": "completed"
    },
    "tags": []
   },
   "outputs": [],
   "source": [
    "# As Airline is Nominal Categorical data we will perform OneHotEncoding\n",
    "Airline=pd.get_dummies(categorical['Airline'],drop_first=True)"
   ]
  },
  {
   "cell_type": "code",
   "execution_count": 40,
   "id": "external-japanese",
   "metadata": {
    "execution": {
     "iopub.execute_input": "2024-02-27T05:59:48.227279Z",
     "iopub.status.busy": "2024-02-27T05:59:48.226211Z",
     "iopub.status.idle": "2024-02-27T05:59:48.241293Z",
     "shell.execute_reply": "2024-02-27T05:59:48.241838Z",
     "shell.execute_reply.started": "2024-02-27T05:36:22.269501Z"
    },
    "papermill": {
     "duration": 0.128988,
     "end_time": "2024-02-27T05:59:48.242036",
     "exception": false,
     "start_time": "2024-02-27T05:59:48.113048",
     "status": "completed"
    },
    "tags": []
   },
   "outputs": [
    {
     "data": {
      "text/html": [
       "<div>\n",
       "<style scoped>\n",
       "    .dataframe tbody tr th:only-of-type {\n",
       "        vertical-align: middle;\n",
       "    }\n",
       "\n",
       "    .dataframe tbody tr th {\n",
       "        vertical-align: top;\n",
       "    }\n",
       "\n",
       "    .dataframe thead th {\n",
       "        text-align: right;\n",
       "    }\n",
       "</style>\n",
       "<table border=\"1\" class=\"dataframe\">\n",
       "  <thead>\n",
       "    <tr style=\"text-align: right;\">\n",
       "      <th></th>\n",
       "      <th>Air India</th>\n",
       "      <th>GoAir</th>\n",
       "      <th>IndiGo</th>\n",
       "      <th>Jet Airways</th>\n",
       "      <th>Jet Airways Business</th>\n",
       "      <th>Multiple carriers</th>\n",
       "      <th>Multiple carriers Premium economy</th>\n",
       "      <th>SpiceJet</th>\n",
       "      <th>Trujet</th>\n",
       "      <th>Vistara</th>\n",
       "      <th>Vistara Premium economy</th>\n",
       "    </tr>\n",
       "  </thead>\n",
       "  <tbody>\n",
       "    <tr>\n",
       "      <th>0</th>\n",
       "      <td>0</td>\n",
       "      <td>0</td>\n",
       "      <td>1</td>\n",
       "      <td>0</td>\n",
       "      <td>0</td>\n",
       "      <td>0</td>\n",
       "      <td>0</td>\n",
       "      <td>0</td>\n",
       "      <td>0</td>\n",
       "      <td>0</td>\n",
       "      <td>0</td>\n",
       "    </tr>\n",
       "    <tr>\n",
       "      <th>1</th>\n",
       "      <td>1</td>\n",
       "      <td>0</td>\n",
       "      <td>0</td>\n",
       "      <td>0</td>\n",
       "      <td>0</td>\n",
       "      <td>0</td>\n",
       "      <td>0</td>\n",
       "      <td>0</td>\n",
       "      <td>0</td>\n",
       "      <td>0</td>\n",
       "      <td>0</td>\n",
       "    </tr>\n",
       "    <tr>\n",
       "      <th>2</th>\n",
       "      <td>0</td>\n",
       "      <td>0</td>\n",
       "      <td>0</td>\n",
       "      <td>1</td>\n",
       "      <td>0</td>\n",
       "      <td>0</td>\n",
       "      <td>0</td>\n",
       "      <td>0</td>\n",
       "      <td>0</td>\n",
       "      <td>0</td>\n",
       "      <td>0</td>\n",
       "    </tr>\n",
       "    <tr>\n",
       "      <th>3</th>\n",
       "      <td>0</td>\n",
       "      <td>0</td>\n",
       "      <td>1</td>\n",
       "      <td>0</td>\n",
       "      <td>0</td>\n",
       "      <td>0</td>\n",
       "      <td>0</td>\n",
       "      <td>0</td>\n",
       "      <td>0</td>\n",
       "      <td>0</td>\n",
       "      <td>0</td>\n",
       "    </tr>\n",
       "    <tr>\n",
       "      <th>4</th>\n",
       "      <td>0</td>\n",
       "      <td>0</td>\n",
       "      <td>1</td>\n",
       "      <td>0</td>\n",
       "      <td>0</td>\n",
       "      <td>0</td>\n",
       "      <td>0</td>\n",
       "      <td>0</td>\n",
       "      <td>0</td>\n",
       "      <td>0</td>\n",
       "      <td>0</td>\n",
       "    </tr>\n",
       "  </tbody>\n",
       "</table>\n",
       "</div>"
      ],
      "text/plain": [
       "   Air India  GoAir  IndiGo  Jet Airways  Jet Airways Business  \\\n",
       "0          0      0       1            0                     0   \n",
       "1          1      0       0            0                     0   \n",
       "2          0      0       0            1                     0   \n",
       "3          0      0       1            0                     0   \n",
       "4          0      0       1            0                     0   \n",
       "\n",
       "   Multiple carriers  Multiple carriers Premium economy  SpiceJet  Trujet  \\\n",
       "0                  0                                  0         0       0   \n",
       "1                  0                                  0         0       0   \n",
       "2                  0                                  0         0       0   \n",
       "3                  0                                  0         0       0   \n",
       "4                  0                                  0         0       0   \n",
       "\n",
       "   Vistara  Vistara Premium economy  \n",
       "0        0                        0  \n",
       "1        0                        0  \n",
       "2        0                        0  \n",
       "3        0                        0  \n",
       "4        0                        0  "
      ]
     },
     "execution_count": 40,
     "metadata": {},
     "output_type": "execute_result"
    }
   ],
   "source": [
    "Airline.head()"
   ]
  },
  {
   "cell_type": "markdown",
   "id": "stunning-alcohol",
   "metadata": {
    "papermill": {
     "duration": 0.110111,
     "end_time": "2024-02-27T05:59:48.462300",
     "exception": false,
     "start_time": "2024-02-27T05:59:48.352189",
     "status": "completed"
    },
    "tags": []
   },
   "source": [
    "<a id = '5.5'></a>\n",
    "<p style = \"font-size : 20px; color : #000080 ; font-family : 'Comic Sans MS'; border-radius: 5px 5px;\"><strong>5.2 Handle Source Column:</strong></p>"
   ]
  },
  {
   "cell_type": "code",
   "execution_count": 41,
   "id": "innovative-wagner",
   "metadata": {
    "execution": {
     "iopub.execute_input": "2024-02-27T05:59:48.703891Z",
     "iopub.status.busy": "2024-02-27T05:59:48.702848Z",
     "iopub.status.idle": "2024-02-27T05:59:48.713679Z",
     "shell.execute_reply": "2024-02-27T05:59:48.714203Z",
     "shell.execute_reply.started": "2024-02-27T05:36:26.731188Z"
    },
    "papermill": {
     "duration": 0.138937,
     "end_time": "2024-02-27T05:59:48.714419",
     "exception": false,
     "start_time": "2024-02-27T05:59:48.575482",
     "status": "completed"
    },
    "tags": []
   },
   "outputs": [
    {
     "data": {
      "text/plain": [
       "Delhi       4536\n",
       "Kolkata     2871\n",
       "Banglore    2197\n",
       "Mumbai       697\n",
       "Chennai      381\n",
       "Name: Source, dtype: int64"
      ]
     },
     "execution_count": 41,
     "metadata": {},
     "output_type": "execute_result"
    }
   ],
   "source": [
    "categorical['Source'].value_counts()"
   ]
  },
  {
   "cell_type": "code",
   "execution_count": 42,
   "id": "sound-polymer",
   "metadata": {
    "execution": {
     "iopub.execute_input": "2024-02-27T05:59:48.961120Z",
     "iopub.status.busy": "2024-02-27T05:59:48.960014Z",
     "iopub.status.idle": "2024-02-27T05:59:48.976083Z",
     "shell.execute_reply": "2024-02-27T05:59:48.975333Z",
     "shell.execute_reply.started": "2024-02-27T05:37:21.091265Z"
    },
    "papermill": {
     "duration": 0.143966,
     "end_time": "2024-02-27T05:59:48.976250",
     "exception": false,
     "start_time": "2024-02-27T05:59:48.832284",
     "status": "completed"
    },
    "tags": []
   },
   "outputs": [
    {
     "data": {
      "text/html": [
       "<div>\n",
       "<style scoped>\n",
       "    .dataframe tbody tr th:only-of-type {\n",
       "        vertical-align: middle;\n",
       "    }\n",
       "\n",
       "    .dataframe tbody tr th {\n",
       "        vertical-align: top;\n",
       "    }\n",
       "\n",
       "    .dataframe thead th {\n",
       "        text-align: right;\n",
       "    }\n",
       "</style>\n",
       "<table border=\"1\" class=\"dataframe\">\n",
       "  <thead>\n",
       "    <tr style=\"text-align: right;\">\n",
       "      <th></th>\n",
       "      <th>Chennai</th>\n",
       "      <th>Delhi</th>\n",
       "      <th>Kolkata</th>\n",
       "      <th>Mumbai</th>\n",
       "    </tr>\n",
       "  </thead>\n",
       "  <tbody>\n",
       "    <tr>\n",
       "      <th>0</th>\n",
       "      <td>0</td>\n",
       "      <td>0</td>\n",
       "      <td>0</td>\n",
       "      <td>0</td>\n",
       "    </tr>\n",
       "    <tr>\n",
       "      <th>1</th>\n",
       "      <td>0</td>\n",
       "      <td>0</td>\n",
       "      <td>1</td>\n",
       "      <td>0</td>\n",
       "    </tr>\n",
       "    <tr>\n",
       "      <th>2</th>\n",
       "      <td>0</td>\n",
       "      <td>1</td>\n",
       "      <td>0</td>\n",
       "      <td>0</td>\n",
       "    </tr>\n",
       "    <tr>\n",
       "      <th>3</th>\n",
       "      <td>0</td>\n",
       "      <td>0</td>\n",
       "      <td>1</td>\n",
       "      <td>0</td>\n",
       "    </tr>\n",
       "    <tr>\n",
       "      <th>4</th>\n",
       "      <td>0</td>\n",
       "      <td>0</td>\n",
       "      <td>0</td>\n",
       "      <td>0</td>\n",
       "    </tr>\n",
       "  </tbody>\n",
       "</table>\n",
       "</div>"
      ],
      "text/plain": [
       "   Chennai  Delhi  Kolkata  Mumbai\n",
       "0        0      0        0       0\n",
       "1        0      0        1       0\n",
       "2        0      1        0       0\n",
       "3        0      0        1       0\n",
       "4        0      0        0       0"
      ]
     },
     "execution_count": 42,
     "metadata": {},
     "output_type": "execute_result"
    }
   ],
   "source": [
    "#encoding of source column\n",
    "source=pd.get_dummies(categorical['Source'],drop_first=True)\n",
    "source.head()"
   ]
  },
  {
   "cell_type": "markdown",
   "id": "armed-sweden",
   "metadata": {
    "papermill": {
     "duration": 0.118596,
     "end_time": "2024-02-27T05:59:49.216449",
     "exception": false,
     "start_time": "2024-02-27T05:59:49.097853",
     "status": "completed"
    },
    "tags": []
   },
   "source": [
    "<a id = '5.5'></a>\n",
    "<p style = \"font-size : 20px; color : #000080 ; font-family : 'Comic Sans MS'; border-radius: 5px 5px;\"><strong>5.3 Handle Destination Column:</strong></p>"
   ]
  },
  {
   "cell_type": "code",
   "execution_count": 43,
   "id": "tribal-wheat",
   "metadata": {
    "execution": {
     "iopub.execute_input": "2024-02-27T05:59:49.452913Z",
     "iopub.status.busy": "2024-02-27T05:59:49.451762Z",
     "iopub.status.idle": "2024-02-27T05:59:49.463501Z",
     "shell.execute_reply": "2024-02-27T05:59:49.464215Z",
     "shell.execute_reply.started": "2024-02-27T05:38:06.785178Z"
    },
    "papermill": {
     "duration": 0.132108,
     "end_time": "2024-02-27T05:59:49.464431",
     "exception": false,
     "start_time": "2024-02-27T05:59:49.332323",
     "status": "completed"
    },
    "tags": []
   },
   "outputs": [
    {
     "data": {
      "text/plain": [
       "Cochin       4536\n",
       "Banglore     2871\n",
       "Delhi        1265\n",
       "New Delhi     932\n",
       "Hyderabad     697\n",
       "Kolkata       381\n",
       "Name: Destination, dtype: int64"
      ]
     },
     "execution_count": 43,
     "metadata": {},
     "output_type": "execute_result"
    }
   ],
   "source": [
    "categorical['Destination'].value_counts()"
   ]
  },
  {
   "cell_type": "code",
   "execution_count": 44,
   "id": "direct-healing",
   "metadata": {
    "execution": {
     "iopub.execute_input": "2024-02-27T05:59:49.697992Z",
     "iopub.status.busy": "2024-02-27T05:59:49.696895Z",
     "iopub.status.idle": "2024-02-27T05:59:49.712209Z",
     "shell.execute_reply": "2024-02-27T05:59:49.712862Z",
     "shell.execute_reply.started": "2024-02-27T05:38:07.829315Z"
    },
    "papermill": {
     "duration": 0.133235,
     "end_time": "2024-02-27T05:59:49.713060",
     "exception": false,
     "start_time": "2024-02-27T05:59:49.579825",
     "status": "completed"
    },
    "tags": []
   },
   "outputs": [
    {
     "data": {
      "text/html": [
       "<div>\n",
       "<style scoped>\n",
       "    .dataframe tbody tr th:only-of-type {\n",
       "        vertical-align: middle;\n",
       "    }\n",
       "\n",
       "    .dataframe tbody tr th {\n",
       "        vertical-align: top;\n",
       "    }\n",
       "\n",
       "    .dataframe thead th {\n",
       "        text-align: right;\n",
       "    }\n",
       "</style>\n",
       "<table border=\"1\" class=\"dataframe\">\n",
       "  <thead>\n",
       "    <tr style=\"text-align: right;\">\n",
       "      <th></th>\n",
       "      <th>Cochin</th>\n",
       "      <th>Delhi</th>\n",
       "      <th>Hyderabad</th>\n",
       "      <th>Kolkata</th>\n",
       "      <th>New Delhi</th>\n",
       "    </tr>\n",
       "  </thead>\n",
       "  <tbody>\n",
       "    <tr>\n",
       "      <th>0</th>\n",
       "      <td>0</td>\n",
       "      <td>0</td>\n",
       "      <td>0</td>\n",
       "      <td>0</td>\n",
       "      <td>1</td>\n",
       "    </tr>\n",
       "    <tr>\n",
       "      <th>1</th>\n",
       "      <td>0</td>\n",
       "      <td>0</td>\n",
       "      <td>0</td>\n",
       "      <td>0</td>\n",
       "      <td>0</td>\n",
       "    </tr>\n",
       "    <tr>\n",
       "      <th>2</th>\n",
       "      <td>1</td>\n",
       "      <td>0</td>\n",
       "      <td>0</td>\n",
       "      <td>0</td>\n",
       "      <td>0</td>\n",
       "    </tr>\n",
       "    <tr>\n",
       "      <th>3</th>\n",
       "      <td>0</td>\n",
       "      <td>0</td>\n",
       "      <td>0</td>\n",
       "      <td>0</td>\n",
       "      <td>0</td>\n",
       "    </tr>\n",
       "    <tr>\n",
       "      <th>4</th>\n",
       "      <td>0</td>\n",
       "      <td>0</td>\n",
       "      <td>0</td>\n",
       "      <td>0</td>\n",
       "      <td>1</td>\n",
       "    </tr>\n",
       "  </tbody>\n",
       "</table>\n",
       "</div>"
      ],
      "text/plain": [
       "   Cochin  Delhi  Hyderabad  Kolkata  New Delhi\n",
       "0       0      0          0        0          1\n",
       "1       0      0          0        0          0\n",
       "2       1      0          0        0          0\n",
       "3       0      0          0        0          0\n",
       "4       0      0          0        0          1"
      ]
     },
     "execution_count": 44,
     "metadata": {},
     "output_type": "execute_result"
    }
   ],
   "source": [
    "#encoding of destination column\n",
    "destination=pd.get_dummies(categorical['Destination'],drop_first=True)\n",
    "destination.head()"
   ]
  },
  {
   "cell_type": "markdown",
   "id": "developmental-fifth",
   "metadata": {
    "papermill": {
     "duration": 0.112539,
     "end_time": "2024-02-27T05:59:49.943438",
     "exception": false,
     "start_time": "2024-02-27T05:59:49.830899",
     "status": "completed"
    },
    "tags": []
   },
   "source": [
    "<a id = '5.5'></a>\n",
    "<p style = \"font-size : 20px; color : #000080 ; font-family : 'Comic Sans MS'; border-radius: 5px 5px;\"><strong>5.4 Handle Route Column:</strong></p>"
   ]
  },
  {
   "cell_type": "code",
   "execution_count": 45,
   "id": "intelligent-notice",
   "metadata": {
    "execution": {
     "iopub.execute_input": "2024-02-27T05:59:50.179174Z",
     "iopub.status.busy": "2024-02-27T05:59:50.178068Z",
     "iopub.status.idle": "2024-02-27T05:59:50.191212Z",
     "shell.execute_reply": "2024-02-27T05:59:50.191819Z",
     "shell.execute_reply.started": "2024-02-27T05:38:30.203607Z"
    },
    "papermill": {
     "duration": 0.132665,
     "end_time": "2024-02-27T05:59:50.192029",
     "exception": false,
     "start_time": "2024-02-27T05:59:50.059364",
     "status": "completed"
    },
    "tags": []
   },
   "outputs": [
    {
     "data": {
      "text/plain": [
       "DEL → BOM → COK                2376\n",
       "BLR → DEL                      1552\n",
       "CCU → BOM → BLR                 979\n",
       "CCU → BLR                       724\n",
       "BOM → HYD                       621\n",
       "                               ... \n",
       "BOM → NDC → HYD                   1\n",
       "BLR → HBX → BOM → AMD → DEL       1\n",
       "CCU → VTZ → BLR                   1\n",
       "BLR → HBX → BOM → NAG → DEL       1\n",
       "BLR → HBX → BOM → BHO → DEL       1\n",
       "Name: Route, Length: 128, dtype: int64"
      ]
     },
     "execution_count": 45,
     "metadata": {},
     "output_type": "execute_result"
    }
   ],
   "source": [
    "# now work on route column\n",
    "categorical['Route'].value_counts()"
   ]
  },
  {
   "cell_type": "code",
   "execution_count": 46,
   "id": "sorted-sharp",
   "metadata": {
    "execution": {
     "iopub.execute_input": "2024-02-27T05:59:50.427151Z",
     "iopub.status.busy": "2024-02-27T05:59:50.426039Z",
     "iopub.status.idle": "2024-02-27T05:59:50.555078Z",
     "shell.execute_reply": "2024-02-27T05:59:50.555726Z",
     "shell.execute_reply.started": "2024-02-27T05:38:38.615033Z"
    },
    "papermill": {
     "duration": 0.247359,
     "end_time": "2024-02-27T05:59:50.555927",
     "exception": false,
     "start_time": "2024-02-27T05:59:50.308568",
     "status": "completed"
    },
    "tags": []
   },
   "outputs": [],
   "source": [
    "categorical['Route1']=categorical['Route'].str.split('→').str[0]\n",
    "categorical['Route2']=categorical['Route'].str.split('→').str[1]\n",
    "categorical['Route3']=categorical['Route'].str.split('→').str[2]\n",
    "categorical['Route4']=categorical['Route'].str.split('→').str[3]\n",
    "categorical['Route5']=categorical['Route'].str.split('→').str[4]"
   ]
  },
  {
   "cell_type": "code",
   "execution_count": 47,
   "id": "norwegian-incident",
   "metadata": {
    "execution": {
     "iopub.execute_input": "2024-02-27T05:59:50.789471Z",
     "iopub.status.busy": "2024-02-27T05:59:50.788382Z",
     "iopub.status.idle": "2024-02-27T05:59:50.807823Z",
     "shell.execute_reply": "2024-02-27T05:59:50.808353Z",
     "shell.execute_reply.started": "2024-02-27T05:38:39.985624Z"
    },
    "papermill": {
     "duration": 0.138142,
     "end_time": "2024-02-27T05:59:50.808553",
     "exception": false,
     "start_time": "2024-02-27T05:59:50.670411",
     "status": "completed"
    },
    "tags": []
   },
   "outputs": [
    {
     "data": {
      "text/html": [
       "<div>\n",
       "<style scoped>\n",
       "    .dataframe tbody tr th:only-of-type {\n",
       "        vertical-align: middle;\n",
       "    }\n",
       "\n",
       "    .dataframe tbody tr th {\n",
       "        vertical-align: top;\n",
       "    }\n",
       "\n",
       "    .dataframe thead th {\n",
       "        text-align: right;\n",
       "    }\n",
       "</style>\n",
       "<table border=\"1\" class=\"dataframe\">\n",
       "  <thead>\n",
       "    <tr style=\"text-align: right;\">\n",
       "      <th></th>\n",
       "      <th>Airline</th>\n",
       "      <th>Source</th>\n",
       "      <th>Destination</th>\n",
       "      <th>Route</th>\n",
       "      <th>Total_Stops</th>\n",
       "      <th>Additional_Info</th>\n",
       "      <th>Route1</th>\n",
       "      <th>Route2</th>\n",
       "      <th>Route3</th>\n",
       "      <th>Route4</th>\n",
       "      <th>Route5</th>\n",
       "    </tr>\n",
       "  </thead>\n",
       "  <tbody>\n",
       "    <tr>\n",
       "      <th>0</th>\n",
       "      <td>IndiGo</td>\n",
       "      <td>Banglore</td>\n",
       "      <td>New Delhi</td>\n",
       "      <td>BLR → DEL</td>\n",
       "      <td>non-stop</td>\n",
       "      <td>No info</td>\n",
       "      <td>BLR</td>\n",
       "      <td>DEL</td>\n",
       "      <td>NaN</td>\n",
       "      <td>NaN</td>\n",
       "      <td>NaN</td>\n",
       "    </tr>\n",
       "    <tr>\n",
       "      <th>1</th>\n",
       "      <td>Air India</td>\n",
       "      <td>Kolkata</td>\n",
       "      <td>Banglore</td>\n",
       "      <td>CCU → IXR → BBI → BLR</td>\n",
       "      <td>2 stops</td>\n",
       "      <td>No info</td>\n",
       "      <td>CCU</td>\n",
       "      <td>IXR</td>\n",
       "      <td>BBI</td>\n",
       "      <td>BLR</td>\n",
       "      <td>NaN</td>\n",
       "    </tr>\n",
       "    <tr>\n",
       "      <th>2</th>\n",
       "      <td>Jet Airways</td>\n",
       "      <td>Delhi</td>\n",
       "      <td>Cochin</td>\n",
       "      <td>DEL → LKO → BOM → COK</td>\n",
       "      <td>2 stops</td>\n",
       "      <td>No info</td>\n",
       "      <td>DEL</td>\n",
       "      <td>LKO</td>\n",
       "      <td>BOM</td>\n",
       "      <td>COK</td>\n",
       "      <td>NaN</td>\n",
       "    </tr>\n",
       "    <tr>\n",
       "      <th>3</th>\n",
       "      <td>IndiGo</td>\n",
       "      <td>Kolkata</td>\n",
       "      <td>Banglore</td>\n",
       "      <td>CCU → NAG → BLR</td>\n",
       "      <td>1 stop</td>\n",
       "      <td>No info</td>\n",
       "      <td>CCU</td>\n",
       "      <td>NAG</td>\n",
       "      <td>BLR</td>\n",
       "      <td>NaN</td>\n",
       "      <td>NaN</td>\n",
       "    </tr>\n",
       "    <tr>\n",
       "      <th>4</th>\n",
       "      <td>IndiGo</td>\n",
       "      <td>Banglore</td>\n",
       "      <td>New Delhi</td>\n",
       "      <td>BLR → NAG → DEL</td>\n",
       "      <td>1 stop</td>\n",
       "      <td>No info</td>\n",
       "      <td>BLR</td>\n",
       "      <td>NAG</td>\n",
       "      <td>DEL</td>\n",
       "      <td>NaN</td>\n",
       "      <td>NaN</td>\n",
       "    </tr>\n",
       "  </tbody>\n",
       "</table>\n",
       "</div>"
      ],
      "text/plain": [
       "       Airline    Source Destination                  Route Total_Stops  \\\n",
       "0       IndiGo  Banglore   New Delhi              BLR → DEL    non-stop   \n",
       "1    Air India   Kolkata    Banglore  CCU → IXR → BBI → BLR     2 stops   \n",
       "2  Jet Airways     Delhi      Cochin  DEL → LKO → BOM → COK     2 stops   \n",
       "3       IndiGo   Kolkata    Banglore        CCU → NAG → BLR      1 stop   \n",
       "4       IndiGo  Banglore   New Delhi        BLR → NAG → DEL      1 stop   \n",
       "\n",
       "  Additional_Info Route1 Route2 Route3 Route4 Route5  \n",
       "0         No info   BLR     DEL    NaN    NaN    NaN  \n",
       "1         No info   CCU    IXR    BBI     BLR    NaN  \n",
       "2         No info   DEL    LKO    BOM     COK    NaN  \n",
       "3         No info   CCU    NAG     BLR    NaN    NaN  \n",
       "4         No info   BLR    NAG     DEL    NaN    NaN  "
      ]
     },
     "execution_count": 47,
     "metadata": {},
     "output_type": "execute_result"
    }
   ],
   "source": [
    "categorical.head()"
   ]
  },
  {
   "cell_type": "code",
   "execution_count": 48,
   "id": "accepting-smooth",
   "metadata": {
    "execution": {
     "iopub.execute_input": "2024-02-27T05:59:51.043200Z",
     "iopub.status.busy": "2024-02-27T05:59:51.042144Z",
     "iopub.status.idle": "2024-02-27T05:59:51.054373Z",
     "shell.execute_reply": "2024-02-27T05:59:51.054961Z",
     "shell.execute_reply.started": "2024-02-27T05:38:52.100170Z"
    },
    "papermill": {
     "duration": 0.132319,
     "end_time": "2024-02-27T05:59:51.055181",
     "exception": false,
     "start_time": "2024-02-27T05:59:50.922862",
     "status": "completed"
    },
    "tags": []
   },
   "outputs": [],
   "source": [
    "#Drop the route column:\n",
    "drop_col(categorical,'Route')"
   ]
  },
  {
   "cell_type": "code",
   "execution_count": 49,
   "id": "shared-feedback",
   "metadata": {
    "execution": {
     "iopub.execute_input": "2024-02-27T05:59:51.292342Z",
     "iopub.status.busy": "2024-02-27T05:59:51.291258Z",
     "iopub.status.idle": "2024-02-27T05:59:51.311205Z",
     "shell.execute_reply": "2024-02-27T05:59:51.311904Z",
     "shell.execute_reply.started": "2024-02-27T05:39:30.037679Z"
    },
    "papermill": {
     "duration": 0.140516,
     "end_time": "2024-02-27T05:59:51.312108",
     "exception": false,
     "start_time": "2024-02-27T05:59:51.171592",
     "status": "completed"
    },
    "tags": []
   },
   "outputs": [
    {
     "data": {
      "text/plain": [
       "Airline                0\n",
       "Source                 0\n",
       "Destination            0\n",
       "Total_Stops            0\n",
       "Additional_Info        0\n",
       "Route1                 0\n",
       "Route2                 0\n",
       "Route3              3491\n",
       "Route4              9116\n",
       "Route5             10636\n",
       "dtype: int64"
      ]
     },
     "execution_count": 49,
     "metadata": {},
     "output_type": "execute_result"
    }
   ],
   "source": [
    "#Check for missing values, as we have splitted Route Column. there might be few routes which will have null values:\n",
    "categorical.isnull().sum()"
   ]
  },
  {
   "cell_type": "code",
   "execution_count": 50,
   "id": "dramatic-boulder",
   "metadata": {
    "execution": {
     "iopub.execute_input": "2024-02-27T05:59:51.551603Z",
     "iopub.status.busy": "2024-02-27T05:59:51.550831Z",
     "iopub.status.idle": "2024-02-27T05:59:51.556635Z",
     "shell.execute_reply": "2024-02-27T05:59:51.557242Z",
     "shell.execute_reply.started": "2024-02-27T05:39:37.260979Z"
    },
    "papermill": {
     "duration": 0.129,
     "end_time": "2024-02-27T05:59:51.557436",
     "exception": false,
     "start_time": "2024-02-27T05:59:51.428436",
     "status": "completed"
    },
    "tags": []
   },
   "outputs": [
    {
     "data": {
      "text/plain": [
       "Index(['Airline', 'Source', 'Destination', 'Total_Stops', 'Additional_Info',\n",
       "       'Route1', 'Route2', 'Route3', 'Route4', 'Route5'],\n",
       "      dtype='object')"
      ]
     },
     "execution_count": 50,
     "metadata": {},
     "output_type": "execute_result"
    }
   ],
   "source": [
    "categorical.columns"
   ]
  },
  {
   "cell_type": "code",
   "execution_count": 51,
   "id": "adult-marketplace",
   "metadata": {
    "execution": {
     "iopub.execute_input": "2024-02-27T05:59:51.791962Z",
     "iopub.status.busy": "2024-02-27T05:59:51.791146Z",
     "iopub.status.idle": "2024-02-27T05:59:51.802481Z",
     "shell.execute_reply": "2024-02-27T05:59:51.801690Z",
     "shell.execute_reply.started": "2024-02-27T05:40:47.462059Z"
    },
    "papermill": {
     "duration": 0.129278,
     "end_time": "2024-02-27T05:59:51.802643",
     "exception": false,
     "start_time": "2024-02-27T05:59:51.673365",
     "status": "completed"
    },
    "tags": []
   },
   "outputs": [],
   "source": [
    "#Handle the Null values - here we will replace them with None:\n",
    "for i in ['Route3', 'Route4', 'Route5']:\n",
    "    categorical[i].fillna('None',inplace=True)"
   ]
  },
  {
   "cell_type": "code",
   "execution_count": 52,
   "id": "designing-builder",
   "metadata": {
    "execution": {
     "iopub.execute_input": "2024-02-27T05:59:52.039992Z",
     "iopub.status.busy": "2024-02-27T05:59:52.038700Z",
     "iopub.status.idle": "2024-02-27T05:59:52.059592Z",
     "shell.execute_reply": "2024-02-27T05:59:52.060263Z",
     "shell.execute_reply.started": "2024-02-27T05:40:51.864014Z"
    },
    "papermill": {
     "duration": 0.142712,
     "end_time": "2024-02-27T05:59:52.060460",
     "exception": false,
     "start_time": "2024-02-27T05:59:51.917748",
     "status": "completed"
    },
    "tags": []
   },
   "outputs": [
    {
     "data": {
      "text/plain": [
       "Airline            0\n",
       "Source             0\n",
       "Destination        0\n",
       "Total_Stops        0\n",
       "Additional_Info    0\n",
       "Route1             0\n",
       "Route2             0\n",
       "Route3             0\n",
       "Route4             0\n",
       "Route5             0\n",
       "dtype: int64"
      ]
     },
     "execution_count": 52,
     "metadata": {},
     "output_type": "execute_result"
    }
   ],
   "source": [
    "categorical.isnull().sum()"
   ]
  },
  {
   "cell_type": "markdown",
   "id": "turned-little",
   "metadata": {
    "papermill": {
     "duration": 0.115005,
     "end_time": "2024-02-27T05:59:52.292241",
     "exception": false,
     "start_time": "2024-02-27T05:59:52.177236",
     "status": "completed"
    },
    "tags": []
   },
   "source": [
    "<a id = '5.5'></a>\n",
    "<p style = \"font-size : 20px; color : #000080 ; font-family : 'Comic Sans MS'; border-radius: 5px 5px;\"><strong> Handle All Route Columns:</strong></p>"
   ]
  },
  {
   "cell_type": "code",
   "execution_count": 53,
   "id": "amino-comedy",
   "metadata": {
    "execution": {
     "iopub.execute_input": "2024-02-27T05:59:52.531962Z",
     "iopub.status.busy": "2024-02-27T05:59:52.531176Z",
     "iopub.status.idle": "2024-02-27T05:59:52.534784Z",
     "shell.execute_reply": "2024-02-27T05:59:52.534006Z",
     "shell.execute_reply.started": "2024-02-27T05:42:03.266118Z"
    },
    "papermill": {
     "duration": 0.124404,
     "end_time": "2024-02-27T05:59:52.534960",
     "exception": false,
     "start_time": "2024-02-27T05:59:52.410556",
     "status": "completed"
    },
    "tags": []
   },
   "outputs": [],
   "source": [
    "# Applying label encoder\n",
    "from sklearn.preprocessing import LabelEncoder\n",
    "encoder = LabelEncoder()"
   ]
  },
  {
   "cell_type": "code",
   "execution_count": 54,
   "id": "average-partner",
   "metadata": {
    "execution": {
     "iopub.execute_input": "2024-02-27T05:59:52.776994Z",
     "iopub.status.busy": "2024-02-27T05:59:52.776123Z",
     "iopub.status.idle": "2024-02-27T05:59:52.805437Z",
     "shell.execute_reply": "2024-02-27T05:59:52.806006Z",
     "shell.execute_reply.started": "2024-02-27T05:42:04.791938Z"
    },
    "papermill": {
     "duration": 0.156245,
     "end_time": "2024-02-27T05:59:52.806218",
     "exception": false,
     "start_time": "2024-02-27T05:59:52.649973",
     "status": "completed"
    },
    "tags": []
   },
   "outputs": [],
   "source": [
    "for i in ['Route1', 'Route2', 'Route3', 'Route4', 'Route5']:\n",
    "    categorical[i]=encoder.fit_transform(categorical[i])"
   ]
  },
  {
   "cell_type": "code",
   "execution_count": 55,
   "id": "initial-journal",
   "metadata": {
    "execution": {
     "iopub.execute_input": "2024-02-27T05:59:53.039536Z",
     "iopub.status.busy": "2024-02-27T05:59:53.038781Z",
     "iopub.status.idle": "2024-02-27T05:59:53.055884Z",
     "shell.execute_reply": "2024-02-27T05:59:53.056438Z",
     "shell.execute_reply.started": "2024-02-27T05:42:07.037129Z"
    },
    "papermill": {
     "duration": 0.136211,
     "end_time": "2024-02-27T05:59:53.056677",
     "exception": false,
     "start_time": "2024-02-27T05:59:52.920466",
     "status": "completed"
    },
    "tags": []
   },
   "outputs": [
    {
     "data": {
      "text/html": [
       "<div>\n",
       "<style scoped>\n",
       "    .dataframe tbody tr th:only-of-type {\n",
       "        vertical-align: middle;\n",
       "    }\n",
       "\n",
       "    .dataframe tbody tr th {\n",
       "        vertical-align: top;\n",
       "    }\n",
       "\n",
       "    .dataframe thead th {\n",
       "        text-align: right;\n",
       "    }\n",
       "</style>\n",
       "<table border=\"1\" class=\"dataframe\">\n",
       "  <thead>\n",
       "    <tr style=\"text-align: right;\">\n",
       "      <th></th>\n",
       "      <th>Airline</th>\n",
       "      <th>Source</th>\n",
       "      <th>Destination</th>\n",
       "      <th>Total_Stops</th>\n",
       "      <th>Additional_Info</th>\n",
       "      <th>Route1</th>\n",
       "      <th>Route2</th>\n",
       "      <th>Route3</th>\n",
       "      <th>Route4</th>\n",
       "      <th>Route5</th>\n",
       "    </tr>\n",
       "  </thead>\n",
       "  <tbody>\n",
       "    <tr>\n",
       "      <th>0</th>\n",
       "      <td>IndiGo</td>\n",
       "      <td>Banglore</td>\n",
       "      <td>New Delhi</td>\n",
       "      <td>non-stop</td>\n",
       "      <td>No info</td>\n",
       "      <td>0</td>\n",
       "      <td>13</td>\n",
       "      <td>29</td>\n",
       "      <td>13</td>\n",
       "      <td>5</td>\n",
       "    </tr>\n",
       "    <tr>\n",
       "      <th>1</th>\n",
       "      <td>Air India</td>\n",
       "      <td>Kolkata</td>\n",
       "      <td>Banglore</td>\n",
       "      <td>2 stops</td>\n",
       "      <td>No info</td>\n",
       "      <td>2</td>\n",
       "      <td>25</td>\n",
       "      <td>1</td>\n",
       "      <td>3</td>\n",
       "      <td>5</td>\n",
       "    </tr>\n",
       "    <tr>\n",
       "      <th>2</th>\n",
       "      <td>Jet Airways</td>\n",
       "      <td>Delhi</td>\n",
       "      <td>Cochin</td>\n",
       "      <td>2 stops</td>\n",
       "      <td>No info</td>\n",
       "      <td>3</td>\n",
       "      <td>32</td>\n",
       "      <td>4</td>\n",
       "      <td>5</td>\n",
       "      <td>5</td>\n",
       "    </tr>\n",
       "    <tr>\n",
       "      <th>3</th>\n",
       "      <td>IndiGo</td>\n",
       "      <td>Kolkata</td>\n",
       "      <td>Banglore</td>\n",
       "      <td>1 stop</td>\n",
       "      <td>No info</td>\n",
       "      <td>2</td>\n",
       "      <td>34</td>\n",
       "      <td>3</td>\n",
       "      <td>13</td>\n",
       "      <td>5</td>\n",
       "    </tr>\n",
       "    <tr>\n",
       "      <th>4</th>\n",
       "      <td>IndiGo</td>\n",
       "      <td>Banglore</td>\n",
       "      <td>New Delhi</td>\n",
       "      <td>1 stop</td>\n",
       "      <td>No info</td>\n",
       "      <td>0</td>\n",
       "      <td>34</td>\n",
       "      <td>8</td>\n",
       "      <td>13</td>\n",
       "      <td>5</td>\n",
       "    </tr>\n",
       "  </tbody>\n",
       "</table>\n",
       "</div>"
      ],
      "text/plain": [
       "       Airline    Source Destination Total_Stops Additional_Info  Route1  \\\n",
       "0       IndiGo  Banglore   New Delhi    non-stop         No info       0   \n",
       "1    Air India   Kolkata    Banglore     2 stops         No info       2   \n",
       "2  Jet Airways     Delhi      Cochin     2 stops         No info       3   \n",
       "3       IndiGo   Kolkata    Banglore      1 stop         No info       2   \n",
       "4       IndiGo  Banglore   New Delhi      1 stop         No info       0   \n",
       "\n",
       "   Route2  Route3  Route4  Route5  \n",
       "0      13      29      13       5  \n",
       "1      25       1       3       5  \n",
       "2      32       4       5       5  \n",
       "3      34       3      13       5  \n",
       "4      34       8      13       5  "
      ]
     },
     "execution_count": 55,
     "metadata": {},
     "output_type": "execute_result"
    }
   ],
   "source": [
    "categorical.head()"
   ]
  },
  {
   "cell_type": "code",
   "execution_count": 56,
   "id": "acquired-syracuse",
   "metadata": {
    "execution": {
     "iopub.execute_input": "2024-02-27T05:59:53.298235Z",
     "iopub.status.busy": "2024-02-27T05:59:53.296407Z",
     "iopub.status.idle": "2024-02-27T05:59:53.302435Z",
     "shell.execute_reply": "2024-02-27T05:59:53.301695Z",
     "shell.execute_reply.started": "2024-02-27T05:42:26.577547Z"
    },
    "papermill": {
     "duration": 0.127763,
     "end_time": "2024-02-27T05:59:53.302591",
     "exception": false,
     "start_time": "2024-02-27T05:59:53.174828",
     "status": "completed"
    },
    "tags": []
   },
   "outputs": [],
   "source": [
    "#Drop this column as whole column have the same value:\n",
    "drop_col(categorical,'Additional_Info')"
   ]
  },
  {
   "cell_type": "markdown",
   "id": "cooked-neighborhood",
   "metadata": {
    "papermill": {
     "duration": 0.115346,
     "end_time": "2024-02-27T05:59:53.533454",
     "exception": false,
     "start_time": "2024-02-27T05:59:53.418108",
     "status": "completed"
    },
    "tags": []
   },
   "source": [
    "<a id = '5.5'></a>\n",
    "<p style = \"font-size : 20px; color : #000080 ; font-family : 'Comic Sans MS'; border-radius: 5px 5px;\"><strong>5.5 Handle Total_Stops Column:</strong></p>"
   ]
  },
  {
   "cell_type": "code",
   "execution_count": 57,
   "id": "young-confusion",
   "metadata": {
    "execution": {
     "iopub.execute_input": "2024-02-27T05:59:53.770784Z",
     "iopub.status.busy": "2024-02-27T05:59:53.769951Z",
     "iopub.status.idle": "2024-02-27T05:59:53.777641Z",
     "shell.execute_reply": "2024-02-27T05:59:53.778263Z",
     "shell.execute_reply.started": "2024-02-27T05:43:00.732749Z"
    },
    "papermill": {
     "duration": 0.129149,
     "end_time": "2024-02-27T05:59:53.778452",
     "exception": false,
     "start_time": "2024-02-27T05:59:53.649303",
     "status": "completed"
    },
    "tags": []
   },
   "outputs": [
    {
     "data": {
      "text/plain": [
       "array(['non-stop', '2 stops', '1 stop', '3 stops', '4 stops'],\n",
       "      dtype=object)"
      ]
     },
     "execution_count": 57,
     "metadata": {},
     "output_type": "execute_result"
    }
   ],
   "source": [
    "categorical['Total_Stops'].unique()"
   ]
  },
  {
   "cell_type": "code",
   "execution_count": 58,
   "id": "consistent-lincoln",
   "metadata": {
    "execution": {
     "iopub.execute_input": "2024-02-27T05:59:54.022176Z",
     "iopub.status.busy": "2024-02-27T05:59:54.017390Z",
     "iopub.status.idle": "2024-02-27T05:59:54.025742Z",
     "shell.execute_reply": "2024-02-27T05:59:54.026412Z",
     "shell.execute_reply.started": "2024-02-27T05:43:03.997656Z"
    },
    "papermill": {
     "duration": 0.13105,
     "end_time": "2024-02-27T05:59:54.026610",
     "exception": false,
     "start_time": "2024-02-27T05:59:53.895560",
     "status": "completed"
    },
    "tags": []
   },
   "outputs": [],
   "source": [
    "# encoding Total stops\n",
    "dict={'non-stop':0, '2 stops':2, '1 stop':1, '3 stops':3, '4 stops':4}\n",
    "categorical['Total_Stops']=categorical['Total_Stops'].map(dict)"
   ]
  },
  {
   "cell_type": "code",
   "execution_count": 59,
   "id": "modified-smell",
   "metadata": {
    "execution": {
     "iopub.execute_input": "2024-02-27T05:59:54.266750Z",
     "iopub.status.busy": "2024-02-27T05:59:54.265913Z",
     "iopub.status.idle": "2024-02-27T05:59:54.272951Z",
     "shell.execute_reply": "2024-02-27T05:59:54.273522Z",
     "shell.execute_reply.started": "2024-02-27T05:43:06.201478Z"
    },
    "papermill": {
     "duration": 0.126763,
     "end_time": "2024-02-27T05:59:54.273782",
     "exception": false,
     "start_time": "2024-02-27T05:59:54.147019",
     "status": "completed"
    },
    "tags": []
   },
   "outputs": [
    {
     "data": {
      "text/plain": [
       "0        0\n",
       "1        2\n",
       "2        2\n",
       "3        1\n",
       "4        1\n",
       "        ..\n",
       "10678    0\n",
       "10679    0\n",
       "10680    0\n",
       "10681    0\n",
       "10682    2\n",
       "Name: Total_Stops, Length: 10682, dtype: int64"
      ]
     },
     "execution_count": 59,
     "metadata": {},
     "output_type": "execute_result"
    }
   ],
   "source": [
    "categorical['Total_Stops']"
   ]
  },
  {
   "cell_type": "code",
   "execution_count": 60,
   "id": "burning-flower",
   "metadata": {
    "execution": {
     "iopub.execute_input": "2024-02-27T05:59:54.511576Z",
     "iopub.status.busy": "2024-02-27T05:59:54.510819Z",
     "iopub.status.idle": "2024-02-27T05:59:54.519818Z",
     "shell.execute_reply": "2024-02-27T05:59:54.520444Z",
     "shell.execute_reply.started": "2024-02-27T05:43:15.005003Z"
    },
    "papermill": {
     "duration": 0.128648,
     "end_time": "2024-02-27T05:59:54.520650",
     "exception": false,
     "start_time": "2024-02-27T05:59:54.392002",
     "status": "completed"
    },
    "tags": []
   },
   "outputs": [],
   "source": [
    "#Drop Unwanted Columns:\n",
    "drop_col(categorical,'Source')\n",
    "drop_col(categorical,'Destination')\n",
    "drop_col(categorical,'Airline')"
   ]
  },
  {
   "cell_type": "markdown",
   "id": "confirmed-schedule",
   "metadata": {
    "papermill": {
     "duration": 0.117202,
     "end_time": "2024-02-27T05:59:54.757437",
     "exception": false,
     "start_time": "2024-02-27T05:59:54.640235",
     "status": "completed"
    },
    "tags": []
   },
   "source": [
    "<a id = '5.5'></a>\n",
    "<p style = \"font-size : 30px; color : #000080 ; font-family : 'Comic Sans MS'; text-align : center; border-radius: 5px 5px;\"><strong>The Data is Cleaned Now.</strong></p>"
   ]
  },
  {
   "cell_type": "code",
   "execution_count": 61,
   "id": "patent-dispute",
   "metadata": {
    "execution": {
     "iopub.execute_input": "2024-02-27T05:59:55.021749Z",
     "iopub.status.busy": "2024-02-27T05:59:55.020962Z",
     "iopub.status.idle": "2024-02-27T05:59:55.028833Z",
     "shell.execute_reply": "2024-02-27T05:59:55.029450Z",
     "shell.execute_reply.started": "2024-02-27T05:45:03.414300Z"
    },
    "papermill": {
     "duration": 0.150818,
     "end_time": "2024-02-27T05:59:55.029734",
     "exception": false,
     "start_time": "2024-02-27T05:59:54.878916",
     "status": "completed"
    },
    "tags": []
   },
   "outputs": [],
   "source": [
    "#Merge All the Sub-datasets we created for cleaning the columns into one final dataframe:\n",
    "final_df=pd.concat([categorical,Airline,source,destination,df[continuous_col]],axis=1)"
   ]
  },
  {
   "cell_type": "code",
   "execution_count": 62,
   "id": "forward-detroit",
   "metadata": {
    "execution": {
     "iopub.execute_input": "2024-02-27T05:59:55.270697Z",
     "iopub.status.busy": "2024-02-27T05:59:55.269916Z",
     "iopub.status.idle": "2024-02-27T05:59:55.294035Z",
     "shell.execute_reply": "2024-02-27T05:59:55.294629Z",
     "shell.execute_reply.started": "2024-02-27T05:45:04.973321Z"
    },
    "papermill": {
     "duration": 0.146347,
     "end_time": "2024-02-27T05:59:55.294855",
     "exception": false,
     "start_time": "2024-02-27T05:59:55.148508",
     "status": "completed"
    },
    "tags": []
   },
   "outputs": [
    {
     "data": {
      "text/html": [
       "<div>\n",
       "<style scoped>\n",
       "    .dataframe tbody tr th:only-of-type {\n",
       "        vertical-align: middle;\n",
       "    }\n",
       "\n",
       "    .dataframe tbody tr th {\n",
       "        vertical-align: top;\n",
       "    }\n",
       "\n",
       "    .dataframe thead th {\n",
       "        text-align: right;\n",
       "    }\n",
       "</style>\n",
       "<table border=\"1\" class=\"dataframe\">\n",
       "  <thead>\n",
       "    <tr style=\"text-align: right;\">\n",
       "      <th></th>\n",
       "      <th>Total_Stops</th>\n",
       "      <th>Route1</th>\n",
       "      <th>Route2</th>\n",
       "      <th>Route3</th>\n",
       "      <th>Route4</th>\n",
       "      <th>Route5</th>\n",
       "      <th>Air India</th>\n",
       "      <th>GoAir</th>\n",
       "      <th>IndiGo</th>\n",
       "      <th>Jet Airways</th>\n",
       "      <th>...</th>\n",
       "      <th>New Delhi</th>\n",
       "      <th>Price</th>\n",
       "      <th>journey_day</th>\n",
       "      <th>journey_month</th>\n",
       "      <th>Dep_Time_hour</th>\n",
       "      <th>Dep_Time_min</th>\n",
       "      <th>Arrival_Time_hour</th>\n",
       "      <th>Arrival_Time_min</th>\n",
       "      <th>dur_hour</th>\n",
       "      <th>dur_min</th>\n",
       "    </tr>\n",
       "  </thead>\n",
       "  <tbody>\n",
       "    <tr>\n",
       "      <th>0</th>\n",
       "      <td>0</td>\n",
       "      <td>0</td>\n",
       "      <td>13</td>\n",
       "      <td>29</td>\n",
       "      <td>13</td>\n",
       "      <td>5</td>\n",
       "      <td>0</td>\n",
       "      <td>0</td>\n",
       "      <td>1</td>\n",
       "      <td>0</td>\n",
       "      <td>...</td>\n",
       "      <td>1</td>\n",
       "      <td>3897</td>\n",
       "      <td>24</td>\n",
       "      <td>3</td>\n",
       "      <td>22</td>\n",
       "      <td>20</td>\n",
       "      <td>1</td>\n",
       "      <td>10</td>\n",
       "      <td>2</td>\n",
       "      <td>50</td>\n",
       "    </tr>\n",
       "    <tr>\n",
       "      <th>1</th>\n",
       "      <td>2</td>\n",
       "      <td>2</td>\n",
       "      <td>25</td>\n",
       "      <td>1</td>\n",
       "      <td>3</td>\n",
       "      <td>5</td>\n",
       "      <td>1</td>\n",
       "      <td>0</td>\n",
       "      <td>0</td>\n",
       "      <td>0</td>\n",
       "      <td>...</td>\n",
       "      <td>0</td>\n",
       "      <td>7662</td>\n",
       "      <td>5</td>\n",
       "      <td>1</td>\n",
       "      <td>5</td>\n",
       "      <td>50</td>\n",
       "      <td>13</td>\n",
       "      <td>15</td>\n",
       "      <td>7</td>\n",
       "      <td>25</td>\n",
       "    </tr>\n",
       "    <tr>\n",
       "      <th>2</th>\n",
       "      <td>2</td>\n",
       "      <td>3</td>\n",
       "      <td>32</td>\n",
       "      <td>4</td>\n",
       "      <td>5</td>\n",
       "      <td>5</td>\n",
       "      <td>0</td>\n",
       "      <td>0</td>\n",
       "      <td>0</td>\n",
       "      <td>1</td>\n",
       "      <td>...</td>\n",
       "      <td>0</td>\n",
       "      <td>13882</td>\n",
       "      <td>6</td>\n",
       "      <td>9</td>\n",
       "      <td>9</td>\n",
       "      <td>25</td>\n",
       "      <td>4</td>\n",
       "      <td>25</td>\n",
       "      <td>19</td>\n",
       "      <td>0</td>\n",
       "    </tr>\n",
       "    <tr>\n",
       "      <th>3</th>\n",
       "      <td>1</td>\n",
       "      <td>2</td>\n",
       "      <td>34</td>\n",
       "      <td>3</td>\n",
       "      <td>13</td>\n",
       "      <td>5</td>\n",
       "      <td>0</td>\n",
       "      <td>0</td>\n",
       "      <td>1</td>\n",
       "      <td>0</td>\n",
       "      <td>...</td>\n",
       "      <td>0</td>\n",
       "      <td>6218</td>\n",
       "      <td>5</td>\n",
       "      <td>12</td>\n",
       "      <td>18</td>\n",
       "      <td>5</td>\n",
       "      <td>23</td>\n",
       "      <td>30</td>\n",
       "      <td>5</td>\n",
       "      <td>25</td>\n",
       "    </tr>\n",
       "    <tr>\n",
       "      <th>4</th>\n",
       "      <td>1</td>\n",
       "      <td>0</td>\n",
       "      <td>34</td>\n",
       "      <td>8</td>\n",
       "      <td>13</td>\n",
       "      <td>5</td>\n",
       "      <td>0</td>\n",
       "      <td>0</td>\n",
       "      <td>1</td>\n",
       "      <td>0</td>\n",
       "      <td>...</td>\n",
       "      <td>1</td>\n",
       "      <td>13302</td>\n",
       "      <td>3</td>\n",
       "      <td>1</td>\n",
       "      <td>16</td>\n",
       "      <td>50</td>\n",
       "      <td>21</td>\n",
       "      <td>35</td>\n",
       "      <td>4</td>\n",
       "      <td>45</td>\n",
       "    </tr>\n",
       "  </tbody>\n",
       "</table>\n",
       "<p>5 rows × 35 columns</p>\n",
       "</div>"
      ],
      "text/plain": [
       "   Total_Stops  Route1  Route2  Route3  Route4  Route5  Air India  GoAir  \\\n",
       "0            0       0      13      29      13       5          0      0   \n",
       "1            2       2      25       1       3       5          1      0   \n",
       "2            2       3      32       4       5       5          0      0   \n",
       "3            1       2      34       3      13       5          0      0   \n",
       "4            1       0      34       8      13       5          0      0   \n",
       "\n",
       "   IndiGo  Jet Airways  ...  New Delhi  Price  journey_day  journey_month  \\\n",
       "0       1            0  ...          1   3897           24              3   \n",
       "1       0            0  ...          0   7662            5              1   \n",
       "2       0            1  ...          0  13882            6              9   \n",
       "3       1            0  ...          0   6218            5             12   \n",
       "4       1            0  ...          1  13302            3              1   \n",
       "\n",
       "   Dep_Time_hour  Dep_Time_min  Arrival_Time_hour  Arrival_Time_min  dur_hour  \\\n",
       "0             22            20                  1                10         2   \n",
       "1              5            50                 13                15         7   \n",
       "2              9            25                  4                25        19   \n",
       "3             18             5                 23                30         5   \n",
       "4             16            50                 21                35         4   \n",
       "\n",
       "   dur_min  \n",
       "0       50  \n",
       "1       25  \n",
       "2        0  \n",
       "3       25  \n",
       "4       45  \n",
       "\n",
       "[5 rows x 35 columns]"
      ]
     },
     "execution_count": 62,
     "metadata": {},
     "output_type": "execute_result"
    }
   ],
   "source": [
    "final_df.head()"
   ]
  },
  {
   "cell_type": "markdown",
   "id": "common-google",
   "metadata": {
    "papermill": {
     "duration": 0.118381,
     "end_time": "2024-02-27T05:59:55.532416",
     "exception": false,
     "start_time": "2024-02-27T05:59:55.414035",
     "status": "completed"
    },
    "tags": []
   },
   "source": [
    "<a id = '5.5'></a>\n",
    "<p style = \"font-size : 22px; color : #000080 ; font-family : 'Comic Sans MS'; border-radius: 5px 5px;\"><strong>6. Check and Handle Outliers (If Any)</strong></p>"
   ]
  },
  {
   "cell_type": "code",
   "execution_count": 63,
   "id": "centered-dressing",
   "metadata": {
    "execution": {
     "iopub.execute_input": "2024-02-27T05:59:55.773399Z",
     "iopub.status.busy": "2024-02-27T05:59:55.772625Z",
     "iopub.status.idle": "2024-02-27T05:59:55.777824Z",
     "shell.execute_reply": "2024-02-27T05:59:55.778381Z",
     "shell.execute_reply.started": "2024-02-27T05:46:17.685164Z"
    },
    "papermill": {
     "duration": 0.127025,
     "end_time": "2024-02-27T05:59:55.778585",
     "exception": false,
     "start_time": "2024-02-27T05:59:55.651560",
     "status": "completed"
    },
    "tags": []
   },
   "outputs": [],
   "source": [
    "def plot(data,col):\n",
    "    fig,(ax1,ax2)=plt.subplots(2,1)\n",
    "    sns.distplot(data[col],ax=ax1)\n",
    "    sns.boxplot(data[col],ax=ax2)"
   ]
  },
  {
   "cell_type": "code",
   "execution_count": 64,
   "id": "stone-nothing",
   "metadata": {
    "execution": {
     "iopub.execute_input": "2024-02-27T05:59:56.020761Z",
     "iopub.status.busy": "2024-02-27T05:59:56.019994Z",
     "iopub.status.idle": "2024-02-27T05:59:56.541357Z",
     "shell.execute_reply": "2024-02-27T05:59:56.542045Z",
     "shell.execute_reply.started": "2024-02-27T05:46:20.095734Z"
    },
    "papermill": {
     "duration": 0.645729,
     "end_time": "2024-02-27T05:59:56.542339",
     "exception": false,
     "start_time": "2024-02-27T05:59:55.896610",
     "status": "completed"
    },
    "tags": []
   },
   "outputs": [
    {
     "data": {
      "image/png": "[encoded data removed]",
      "text/plain": [
       "<Figure size 432x288 with 2 Axes>"
      ]
     },
     "metadata": {
      "needs_background": "light"
     },
     "output_type": "display_data"
    }
   ],
   "source": [
    "plot(final_df,'Price')"
   ]
  },
  {
   "cell_type": "markdown",
   "id": "significant-swing",
   "metadata": {
    "papermill": {
     "duration": 0.118936,
     "end_time": "2024-02-27T05:59:56.781360",
     "exception": false,
     "start_time": "2024-02-27T05:59:56.662424",
     "status": "completed"
    },
    "tags": []
   },
   "source": [
    "<strong><p style = \"font-size : 20px; color : #000000 ; font-family : 'Arial MT'; border-radius: 5px 5px;\">Replacing Outliers with Median:</p></strong>\n",
    "\n",
    "* <p style = \"font-size : 20px; color : #000000 ; font-family : 'Arial MT'; border-radius: 5px 5px;\">To address outliers in the price feature, we opt for replacing them with the median value. This strategy ensures robustness in data preprocessing, maintaining model stability and accuracy.</p>"
   ]
  },
  {
   "cell_type": "code",
   "execution_count": 65,
   "id": "frozen-tribe",
   "metadata": {
    "execution": {
     "iopub.execute_input": "2024-02-27T05:59:57.025127Z",
     "iopub.status.busy": "2024-02-27T05:59:57.024328Z",
     "iopub.status.idle": "2024-02-27T05:59:57.034847Z",
     "shell.execute_reply": "2024-02-27T05:59:57.035442Z",
     "shell.execute_reply.started": "2024-02-27T05:48:03.717955Z"
    },
    "papermill": {
     "duration": 0.135113,
     "end_time": "2024-02-27T05:59:57.035704",
     "exception": false,
     "start_time": "2024-02-27T05:59:56.900591",
     "status": "completed"
    },
    "tags": []
   },
   "outputs": [],
   "source": [
    "final_df['Price']=np.where(final_df['Price']>=40000,final_df['Price'].median(),final_df['Price'])"
   ]
  },
  {
   "cell_type": "code",
   "execution_count": 66,
   "id": "native-venture",
   "metadata": {
    "execution": {
     "iopub.execute_input": "2024-02-27T05:59:57.297704Z",
     "iopub.status.busy": "2024-02-27T05:59:57.296910Z",
     "iopub.status.idle": "2024-02-27T05:59:57.805699Z",
     "shell.execute_reply": "2024-02-27T05:59:57.806257Z",
     "shell.execute_reply.started": "2024-02-27T05:48:06.466252Z"
    },
    "papermill": {
     "duration": 0.648041,
     "end_time": "2024-02-27T05:59:57.806470",
     "exception": false,
     "start_time": "2024-02-27T05:59:57.158429",
     "status": "completed"
    },
    "tags": []
   },
   "outputs": [
    {
     "data": {
      "image/png": "[encoded data removed]",
      "text/plain": [
       "<Figure size 432x288 with 2 Axes>"
      ]
     },
     "metadata": {
      "needs_background": "light"
     },
     "output_type": "display_data"
    }
   ],
   "source": [
    "plot(final_df,'Price')"
   ]
  },
  {
   "cell_type": "markdown",
   "id": "grave-palestine",
   "metadata": {
    "papermill": {
     "duration": 0.128394,
     "end_time": "2024-02-27T05:59:58.060546",
     "exception": false,
     "start_time": "2024-02-27T05:59:57.932152",
     "status": "completed"
    },
    "tags": []
   },
   "source": [
    "<a id = '5.5'></a>\n",
    "<p style = \"font-size : 22px; color : #000080 ; font-family : 'Comic Sans MS'; border-radius: 5px 5px;\"><strong>7. Split the Dataset into X (Independent) and y (Dependent)</strong></p>"
   ]
  },
  {
   "cell_type": "code",
   "execution_count": 67,
   "id": "included-registrar",
   "metadata": {
    "execution": {
     "iopub.execute_input": "2024-02-27T05:59:58.306522Z",
     "iopub.status.busy": "2024-02-27T05:59:58.305672Z",
     "iopub.status.idle": "2024-02-27T05:59:58.311748Z",
     "shell.execute_reply": "2024-02-27T05:59:58.312280Z",
     "shell.execute_reply.started": "2024-02-27T05:49:16.268139Z"
    },
    "papermill": {
     "duration": 0.130805,
     "end_time": "2024-02-27T05:59:58.312479",
     "exception": false,
     "start_time": "2024-02-27T05:59:58.181674",
     "status": "completed"
    },
    "tags": []
   },
   "outputs": [],
   "source": [
    "X=final_df.drop('Price',axis=1)\n",
    "y=df['Price']"
   ]
  },
  {
   "cell_type": "markdown",
   "id": "certain-pocket",
   "metadata": {
    "papermill": {
     "duration": 0.122237,
     "end_time": "2024-02-27T05:59:58.554856",
     "exception": false,
     "start_time": "2024-02-27T05:59:58.432619",
     "status": "completed"
    },
    "tags": []
   },
   "source": [
    "<a id = '5.5'></a>\n",
    "<p style = \"font-size : 22px; color : #000080 ; font-family : 'Comic Sans MS'; border-radius: 5px 5px;\"><strong>8. Feature Selection</strong></p>\n",
    "\n",
    "* <p style = \"font-size : 20px; color : #000000 ; font-family : 'Arial MT'; border-radius: 5px 5px;\">We want to choose the most useful features that relate well to the independent variable. To do this without making things too complicated, we use something called mutual_info_classif. It helps us find the important features while also making sure we don't end up with too many, which could slow things down.</p>\n",
    "\n"
   ]
  },
  {
   "cell_type": "code",
   "execution_count": 68,
   "id": "alike-incidence",
   "metadata": {
    "execution": {
     "iopub.execute_input": "2024-02-27T05:59:58.804512Z",
     "iopub.status.busy": "2024-02-27T05:59:58.803740Z",
     "iopub.status.idle": "2024-02-27T05:59:58.991978Z",
     "shell.execute_reply": "2024-02-27T05:59:58.991196Z",
     "shell.execute_reply.started": "2024-02-27T05:51:37.472287Z"
    },
    "papermill": {
     "duration": 0.315733,
     "end_time": "2024-02-27T05:59:58.992149",
     "exception": false,
     "start_time": "2024-02-27T05:59:58.676416",
     "status": "completed"
    },
    "tags": []
   },
   "outputs": [],
   "source": [
    "from sklearn.feature_selection import mutual_info_classif"
   ]
  },
  {
   "cell_type": "code",
   "execution_count": 69,
   "id": "relative-lighter",
   "metadata": {
    "execution": {
     "iopub.execute_input": "2024-02-27T05:59:59.245160Z",
     "iopub.status.busy": "2024-02-27T05:59:59.244386Z",
     "iopub.status.idle": "2024-02-27T06:00:30.060751Z",
     "shell.execute_reply": "2024-02-27T06:00:30.061371Z",
     "shell.execute_reply.started": "2024-02-27T05:51:39.157876Z"
    },
    "papermill": {
     "duration": 30.942984,
     "end_time": "2024-02-27T06:00:30.061577",
     "exception": false,
     "start_time": "2024-02-27T05:59:59.118593",
     "status": "completed"
    },
    "tags": []
   },
   "outputs": [
    {
     "data": {
      "text/plain": [
       "array([2.17943898, 2.05136588, 2.78371088, 2.30365852, 1.53421241,\n",
       "       0.74647579, 0.76293342, 0.10748742, 0.65011832, 0.9178377 ,\n",
       "       0.        , 0.56023322, 0.02512475, 0.3222653 , 0.        ,\n",
       "       0.23859771, 0.        , 0.17529998, 1.56001839, 0.86148757,\n",
       "       0.28622273, 1.57607803, 0.42595474, 0.28202567, 0.17545931,\n",
       "       0.38138773, 1.10360542, 0.85323877, 1.42872371, 1.21533865,\n",
       "       1.86289176, 1.53664936, 1.78237669, 1.06894355])"
      ]
     },
     "execution_count": 69,
     "metadata": {},
     "output_type": "execute_result"
    }
   ],
   "source": [
    "mutual_info_classif(X,y)"
   ]
  },
  {
   "cell_type": "code",
   "execution_count": 70,
   "id": "engaging-salvation",
   "metadata": {
    "execution": {
     "iopub.execute_input": "2024-02-27T06:00:30.316919Z",
     "iopub.status.busy": "2024-02-27T06:00:30.315812Z",
     "iopub.status.idle": "2024-02-27T06:01:01.089354Z",
     "shell.execute_reply": "2024-02-27T06:01:01.089994Z",
     "shell.execute_reply.started": "2024-02-27T05:52:11.459739Z"
    },
    "papermill": {
     "duration": 30.903039,
     "end_time": "2024-02-27T06:01:01.090225",
     "exception": false,
     "start_time": "2024-02-27T06:00:30.187186",
     "status": "completed"
    },
    "tags": []
   },
   "outputs": [
    {
     "data": {
      "text/html": [
       "<div>\n",
       "<style scoped>\n",
       "    .dataframe tbody tr th:only-of-type {\n",
       "        vertical-align: middle;\n",
       "    }\n",
       "\n",
       "    .dataframe tbody tr th {\n",
       "        vertical-align: top;\n",
       "    }\n",
       "\n",
       "    .dataframe thead th {\n",
       "        text-align: right;\n",
       "    }\n",
       "</style>\n",
       "<table border=\"1\" class=\"dataframe\">\n",
       "  <thead>\n",
       "    <tr style=\"text-align: right;\">\n",
       "      <th></th>\n",
       "      <th>0</th>\n",
       "    </tr>\n",
       "  </thead>\n",
       "  <tbody>\n",
       "    <tr>\n",
       "      <th>Total_Stops</th>\n",
       "      <td>2.137070</td>\n",
       "    </tr>\n",
       "    <tr>\n",
       "      <th>Route1</th>\n",
       "      <td>2.045968</td>\n",
       "    </tr>\n",
       "    <tr>\n",
       "      <th>Route2</th>\n",
       "      <td>2.765611</td>\n",
       "    </tr>\n",
       "    <tr>\n",
       "      <th>Route3</th>\n",
       "      <td>2.255809</td>\n",
       "    </tr>\n",
       "    <tr>\n",
       "      <th>Route4</th>\n",
       "      <td>1.471054</td>\n",
       "    </tr>\n",
       "    <tr>\n",
       "      <th>Route5</th>\n",
       "      <td>0.751737</td>\n",
       "    </tr>\n",
       "    <tr>\n",
       "      <th>Air India</th>\n",
       "      <td>0.760100</td>\n",
       "    </tr>\n",
       "    <tr>\n",
       "      <th>GoAir</th>\n",
       "      <td>0.106610</td>\n",
       "    </tr>\n",
       "    <tr>\n",
       "      <th>IndiGo</th>\n",
       "      <td>0.673596</td>\n",
       "    </tr>\n",
       "    <tr>\n",
       "      <th>Jet Airways</th>\n",
       "      <td>0.925234</td>\n",
       "    </tr>\n",
       "    <tr>\n",
       "      <th>Jet Airways Business</th>\n",
       "      <td>0.005420</td>\n",
       "    </tr>\n",
       "    <tr>\n",
       "      <th>Multiple carriers</th>\n",
       "      <td>0.565918</td>\n",
       "    </tr>\n",
       "    <tr>\n",
       "      <th>Multiple carriers Premium economy</th>\n",
       "      <td>0.010314</td>\n",
       "    </tr>\n",
       "    <tr>\n",
       "      <th>SpiceJet</th>\n",
       "      <td>0.322295</td>\n",
       "    </tr>\n",
       "    <tr>\n",
       "      <th>Trujet</th>\n",
       "      <td>0.000000</td>\n",
       "    </tr>\n",
       "    <tr>\n",
       "      <th>Vistara</th>\n",
       "      <td>0.221156</td>\n",
       "    </tr>\n",
       "    <tr>\n",
       "      <th>Vistara Premium economy</th>\n",
       "      <td>0.009249</td>\n",
       "    </tr>\n",
       "    <tr>\n",
       "      <th>Chennai</th>\n",
       "      <td>0.153835</td>\n",
       "    </tr>\n",
       "    <tr>\n",
       "      <th>Delhi</th>\n",
       "      <td>1.558547</td>\n",
       "    </tr>\n",
       "    <tr>\n",
       "      <th>Kolkata</th>\n",
       "      <td>0.879140</td>\n",
       "    </tr>\n",
       "    <tr>\n",
       "      <th>Mumbai</th>\n",
       "      <td>0.293057</td>\n",
       "    </tr>\n",
       "    <tr>\n",
       "      <th>Cochin</th>\n",
       "      <td>1.579466</td>\n",
       "    </tr>\n",
       "    <tr>\n",
       "      <th>Delhi</th>\n",
       "      <td>0.414012</td>\n",
       "    </tr>\n",
       "    <tr>\n",
       "      <th>Hyderabad</th>\n",
       "      <td>0.300821</td>\n",
       "    </tr>\n",
       "    <tr>\n",
       "      <th>Kolkata</th>\n",
       "      <td>0.160253</td>\n",
       "    </tr>\n",
       "    <tr>\n",
       "      <th>New Delhi</th>\n",
       "      <td>0.369550</td>\n",
       "    </tr>\n",
       "    <tr>\n",
       "      <th>journey_day</th>\n",
       "      <td>1.127602</td>\n",
       "    </tr>\n",
       "    <tr>\n",
       "      <th>journey_month</th>\n",
       "      <td>0.865598</td>\n",
       "    </tr>\n",
       "    <tr>\n",
       "      <th>Dep_Time_hour</th>\n",
       "      <td>1.416310</td>\n",
       "    </tr>\n",
       "    <tr>\n",
       "      <th>Dep_Time_min</th>\n",
       "      <td>1.210291</td>\n",
       "    </tr>\n",
       "    <tr>\n",
       "      <th>Arrival_Time_hour</th>\n",
       "      <td>1.846727</td>\n",
       "    </tr>\n",
       "    <tr>\n",
       "      <th>Arrival_Time_min</th>\n",
       "      <td>1.545342</td>\n",
       "    </tr>\n",
       "    <tr>\n",
       "      <th>dur_hour</th>\n",
       "      <td>1.781972</td>\n",
       "    </tr>\n",
       "    <tr>\n",
       "      <th>dur_min</th>\n",
       "      <td>1.122981</td>\n",
       "    </tr>\n",
       "  </tbody>\n",
       "</table>\n",
       "</div>"
      ],
      "text/plain": [
       "                                          0\n",
       "Total_Stops                        2.137070\n",
       "Route1                             2.045968\n",
       "Route2                             2.765611\n",
       "Route3                             2.255809\n",
       "Route4                             1.471054\n",
       "Route5                             0.751737\n",
       "Air India                          0.760100\n",
       "GoAir                              0.106610\n",
       "IndiGo                             0.673596\n",
       "Jet Airways                        0.925234\n",
       "Jet Airways Business               0.005420\n",
       "Multiple carriers                  0.565918\n",
       "Multiple carriers Premium economy  0.010314\n",
       "SpiceJet                           0.322295\n",
       "Trujet                             0.000000\n",
       "Vistara                            0.221156\n",
       "Vistara Premium economy            0.009249\n",
       "Chennai                            0.153835\n",
       "Delhi                              1.558547\n",
       "Kolkata                            0.879140\n",
       "Mumbai                             0.293057\n",
       "Cochin                             1.579466\n",
       "Delhi                              0.414012\n",
       "Hyderabad                          0.300821\n",
       "Kolkata                            0.160253\n",
       "New Delhi                          0.369550\n",
       "journey_day                        1.127602\n",
       "journey_month                      0.865598\n",
       "Dep_Time_hour                      1.416310\n",
       "Dep_Time_min                       1.210291\n",
       "Arrival_Time_hour                  1.846727\n",
       "Arrival_Time_min                   1.545342\n",
       "dur_hour                           1.781972\n",
       "dur_min                            1.122981"
      ]
     },
     "execution_count": 70,
     "metadata": {},
     "output_type": "execute_result"
    }
   ],
   "source": [
    "imp = pd.DataFrame(mutual_info_classif(X,y),index=X.columns)\n",
    "imp"
   ]
  },
  {
   "cell_type": "code",
   "execution_count": 71,
   "id": "protecting-christian",
   "metadata": {
    "execution": {
     "iopub.execute_input": "2024-02-27T06:01:01.343974Z",
     "iopub.status.busy": "2024-02-27T06:01:01.342770Z",
     "iopub.status.idle": "2024-02-27T06:01:01.358686Z",
     "shell.execute_reply": "2024-02-27T06:01:01.359326Z",
     "shell.execute_reply.started": "2024-02-27T05:52:50.901620Z"
    },
    "papermill": {
     "duration": 0.145834,
     "end_time": "2024-02-27T06:01:01.359534",
     "exception": false,
     "start_time": "2024-02-27T06:01:01.213700",
     "status": "completed"
    },
    "tags": []
   },
   "outputs": [
    {
     "data": {
      "text/html": [
       "<div>\n",
       "<style scoped>\n",
       "    .dataframe tbody tr th:only-of-type {\n",
       "        vertical-align: middle;\n",
       "    }\n",
       "\n",
       "    .dataframe tbody tr th {\n",
       "        vertical-align: top;\n",
       "    }\n",
       "\n",
       "    .dataframe thead th {\n",
       "        text-align: right;\n",
       "    }\n",
       "</style>\n",
       "<table border=\"1\" class=\"dataframe\">\n",
       "  <thead>\n",
       "    <tr style=\"text-align: right;\">\n",
       "      <th></th>\n",
       "      <th>importance</th>\n",
       "    </tr>\n",
       "  </thead>\n",
       "  <tbody>\n",
       "    <tr>\n",
       "      <th>Route2</th>\n",
       "      <td>2.765611</td>\n",
       "    </tr>\n",
       "    <tr>\n",
       "      <th>Route3</th>\n",
       "      <td>2.255809</td>\n",
       "    </tr>\n",
       "    <tr>\n",
       "      <th>Total_Stops</th>\n",
       "      <td>2.137070</td>\n",
       "    </tr>\n",
       "    <tr>\n",
       "      <th>Route1</th>\n",
       "      <td>2.045968</td>\n",
       "    </tr>\n",
       "    <tr>\n",
       "      <th>Arrival_Time_hour</th>\n",
       "      <td>1.846727</td>\n",
       "    </tr>\n",
       "    <tr>\n",
       "      <th>dur_hour</th>\n",
       "      <td>1.781972</td>\n",
       "    </tr>\n",
       "    <tr>\n",
       "      <th>Cochin</th>\n",
       "      <td>1.579466</td>\n",
       "    </tr>\n",
       "    <tr>\n",
       "      <th>Delhi</th>\n",
       "      <td>1.558547</td>\n",
       "    </tr>\n",
       "    <tr>\n",
       "      <th>Arrival_Time_min</th>\n",
       "      <td>1.545342</td>\n",
       "    </tr>\n",
       "    <tr>\n",
       "      <th>Route4</th>\n",
       "      <td>1.471054</td>\n",
       "    </tr>\n",
       "    <tr>\n",
       "      <th>Dep_Time_hour</th>\n",
       "      <td>1.416310</td>\n",
       "    </tr>\n",
       "    <tr>\n",
       "      <th>Dep_Time_min</th>\n",
       "      <td>1.210291</td>\n",
       "    </tr>\n",
       "    <tr>\n",
       "      <th>journey_day</th>\n",
       "      <td>1.127602</td>\n",
       "    </tr>\n",
       "    <tr>\n",
       "      <th>dur_min</th>\n",
       "      <td>1.122981</td>\n",
       "    </tr>\n",
       "    <tr>\n",
       "      <th>Jet Airways</th>\n",
       "      <td>0.925234</td>\n",
       "    </tr>\n",
       "    <tr>\n",
       "      <th>Kolkata</th>\n",
       "      <td>0.879140</td>\n",
       "    </tr>\n",
       "    <tr>\n",
       "      <th>journey_month</th>\n",
       "      <td>0.865598</td>\n",
       "    </tr>\n",
       "    <tr>\n",
       "      <th>Air India</th>\n",
       "      <td>0.760100</td>\n",
       "    </tr>\n",
       "    <tr>\n",
       "      <th>Route5</th>\n",
       "      <td>0.751737</td>\n",
       "    </tr>\n",
       "    <tr>\n",
       "      <th>IndiGo</th>\n",
       "      <td>0.673596</td>\n",
       "    </tr>\n",
       "    <tr>\n",
       "      <th>Multiple carriers</th>\n",
       "      <td>0.565918</td>\n",
       "    </tr>\n",
       "    <tr>\n",
       "      <th>Delhi</th>\n",
       "      <td>0.414012</td>\n",
       "    </tr>\n",
       "    <tr>\n",
       "      <th>New Delhi</th>\n",
       "      <td>0.369550</td>\n",
       "    </tr>\n",
       "    <tr>\n",
       "      <th>SpiceJet</th>\n",
       "      <td>0.322295</td>\n",
       "    </tr>\n",
       "    <tr>\n",
       "      <th>Hyderabad</th>\n",
       "      <td>0.300821</td>\n",
       "    </tr>\n",
       "    <tr>\n",
       "      <th>Mumbai</th>\n",
       "      <td>0.293057</td>\n",
       "    </tr>\n",
       "    <tr>\n",
       "      <th>Vistara</th>\n",
       "      <td>0.221156</td>\n",
       "    </tr>\n",
       "    <tr>\n",
       "      <th>Kolkata</th>\n",
       "      <td>0.160253</td>\n",
       "    </tr>\n",
       "    <tr>\n",
       "      <th>Chennai</th>\n",
       "      <td>0.153835</td>\n",
       "    </tr>\n",
       "    <tr>\n",
       "      <th>GoAir</th>\n",
       "      <td>0.106610</td>\n",
       "    </tr>\n",
       "    <tr>\n",
       "      <th>Multiple carriers Premium economy</th>\n",
       "      <td>0.010314</td>\n",
       "    </tr>\n",
       "    <tr>\n",
       "      <th>Vistara Premium economy</th>\n",
       "      <td>0.009249</td>\n",
       "    </tr>\n",
       "    <tr>\n",
       "      <th>Jet Airways Business</th>\n",
       "      <td>0.005420</td>\n",
       "    </tr>\n",
       "    <tr>\n",
       "      <th>Trujet</th>\n",
       "      <td>0.000000</td>\n",
       "    </tr>\n",
       "  </tbody>\n",
       "</table>\n",
       "</div>"
      ],
      "text/plain": [
       "                                   importance\n",
       "Route2                               2.765611\n",
       "Route3                               2.255809\n",
       "Total_Stops                          2.137070\n",
       "Route1                               2.045968\n",
       "Arrival_Time_hour                    1.846727\n",
       "dur_hour                             1.781972\n",
       "Cochin                               1.579466\n",
       "Delhi                                1.558547\n",
       "Arrival_Time_min                     1.545342\n",
       "Route4                               1.471054\n",
       "Dep_Time_hour                        1.416310\n",
       "Dep_Time_min                         1.210291\n",
       "journey_day                          1.127602\n",
       "dur_min                              1.122981\n",
       "Jet Airways                          0.925234\n",
       "Kolkata                              0.879140\n",
       "journey_month                        0.865598\n",
       "Air India                            0.760100\n",
       "Route5                               0.751737\n",
       "IndiGo                               0.673596\n",
       "Multiple carriers                    0.565918\n",
       "Delhi                                0.414012\n",
       "New Delhi                            0.369550\n",
       "SpiceJet                             0.322295\n",
       "Hyderabad                            0.300821\n",
       "Mumbai                               0.293057\n",
       "Vistara                              0.221156\n",
       "Kolkata                              0.160253\n",
       "Chennai                              0.153835\n",
       "GoAir                                0.106610\n",
       "Multiple carriers Premium economy    0.010314\n",
       "Vistara Premium economy              0.009249\n",
       "Jet Airways Business                 0.005420\n",
       "Trujet                               0.000000"
      ]
     },
     "execution_count": 71,
     "metadata": {},
     "output_type": "execute_result"
    }
   ],
   "source": [
    "imp.columns=['importance']\n",
    "imp.sort_values(by='importance',ascending=False)"
   ]
  },
  {
   "cell_type": "markdown",
   "id": "amazing-penalty",
   "metadata": {
    "papermill": {
     "duration": 0.125098,
     "end_time": "2024-02-27T06:01:01.608178",
     "exception": false,
     "start_time": "2024-02-27T06:01:01.483080",
     "status": "completed"
    },
    "tags": []
   },
   "source": [
    "* <p style = \"font-size : 20px; color : #000000 ; font-family : 'Arial MT'; border-radius: 5px 5px;\">Although some features in the table have values close to zero, suggesting insignificance, we're deferring their removal pending authorization. However, it's essential to acknowledge their presence and potential impact on our analysis.</p>"
   ]
  },
  {
   "cell_type": "markdown",
   "id": "likely-senate",
   "metadata": {
    "papermill": {
     "duration": 0.131465,
     "end_time": "2024-02-27T06:01:01.860644",
     "exception": false,
     "start_time": "2024-02-27T06:01:01.729179",
     "status": "completed"
    },
    "tags": []
   },
   "source": [
    "<a id = '5.5'></a>\n",
    "<p style = \"font-size : 22px; color : #000080 ; font-family : 'Comic Sans MS'; border-radius: 5px 5px;\"><strong>9. Model Building</strong></p>"
   ]
  },
  {
   "cell_type": "code",
   "execution_count": 72,
   "id": "absolute-version",
   "metadata": {
    "execution": {
     "iopub.execute_input": "2024-02-27T06:01:02.130726Z",
     "iopub.status.busy": "2024-02-27T06:01:02.129855Z",
     "iopub.status.idle": "2024-02-27T06:01:02.143098Z",
     "shell.execute_reply": "2024-02-27T06:01:02.142408Z",
     "shell.execute_reply.started": "2024-02-27T05:54:41.540139Z"
    },
    "papermill": {
     "duration": 0.151089,
     "end_time": "2024-02-27T06:01:02.143303",
     "exception": false,
     "start_time": "2024-02-27T06:01:01.992214",
     "status": "completed"
    },
    "tags": []
   },
   "outputs": [],
   "source": [
    "# spiliting the dataset\n",
    "from sklearn.model_selection import train_test_split\n",
    "X_train,X_test,y_train,y_test = train_test_split(X,y,test_size=0.20,random_state=123)"
   ]
  },
  {
   "cell_type": "code",
   "execution_count": 73,
   "id": "lasting-aluminum",
   "metadata": {
    "execution": {
     "iopub.execute_input": "2024-02-27T06:01:02.400622Z",
     "iopub.status.busy": "2024-02-27T06:01:02.399848Z",
     "iopub.status.idle": "2024-02-27T06:01:02.409344Z",
     "shell.execute_reply": "2024-02-27T06:01:02.409954Z",
     "shell.execute_reply.started": "2024-02-27T05:55:05.065355Z"
    },
    "papermill": {
     "duration": 0.141129,
     "end_time": "2024-02-27T06:01:02.410178",
     "exception": false,
     "start_time": "2024-02-27T06:01:02.269049",
     "status": "completed"
    },
    "tags": []
   },
   "outputs": [],
   "source": [
    "from sklearn.metrics import r2_score,mean_absolute_error,mean_squared_error\n",
    "def predict(ml_model):\n",
    "    print('Model is: {}'.format(ml_model))\n",
    "    model= ml_model.fit(X_train,y_train)\n",
    "    print(\"Training score: {}\".format(model.score(X_train,y_train)))\n",
    "    predictions = model.predict(X_test)\n",
    "    print(\"Predictions are: {}\".format(predictions))\n",
    "    print('\\n')\n",
    "    r2score=r2_score(y_test,predictions) \n",
    "    print(\"r2 score is: {}\".format(r2score))\n",
    "          \n",
    "    print('MAE:{}'.format(mean_absolute_error(y_test,predictions)))\n",
    "    print('MSE:{}'.format(mean_squared_error(y_test,predictions)))\n",
    "    print('RMSE:{}'.format(np.sqrt(mean_squared_error(y_test,predictions))))\n",
    "     \n",
    "    sns.distplot(y_test-predictions)      \n",
    "          "
   ]
  },
  {
   "cell_type": "code",
   "execution_count": 74,
   "id": "auburn-mustang",
   "metadata": {
    "execution": {
     "iopub.execute_input": "2024-02-27T06:01:02.663530Z",
     "iopub.status.busy": "2024-02-27T06:01:02.662734Z",
     "iopub.status.idle": "2024-02-27T06:01:02.734558Z",
     "shell.execute_reply": "2024-02-27T06:01:02.733842Z",
     "shell.execute_reply.started": "2024-02-27T05:55:08.146420Z"
    },
    "papermill": {
     "duration": 0.200496,
     "end_time": "2024-02-27T06:01:02.734763",
     "exception": false,
     "start_time": "2024-02-27T06:01:02.534267",
     "status": "completed"
    },
    "tags": []
   },
   "outputs": [],
   "source": [
    "from sklearn.linear_model import LogisticRegression\n",
    "from sklearn.neighbors import KNeighborsRegressor\n",
    "from sklearn.tree import DecisionTreeRegressor\n",
    "from sklearn.ensemble import GradientBoostingRegressor,RandomForestRegressor\n"
   ]
  },
  {
   "cell_type": "markdown",
   "id": "metropolitan-defensive",
   "metadata": {
    "papermill": {
     "duration": 0.122825,
     "end_time": "2024-02-27T06:01:02.980191",
     "exception": false,
     "start_time": "2024-02-27T06:01:02.857366",
     "status": "completed"
    },
    "tags": []
   },
   "source": [
    "<a id = '5.5'></a>\n",
    "<p style = \"font-size : 20px; color : #000080 ; font-family : 'Comic Sans MS'; border-radius: 5px 5px;\"><strong>8.1 Random Forest Model</strong></p>\n"
   ]
  },
  {
   "cell_type": "code",
   "execution_count": 75,
   "id": "statutory-gamma",
   "metadata": {
    "execution": {
     "iopub.execute_input": "2024-02-27T06:01:03.236625Z",
     "iopub.status.busy": "2024-02-27T06:01:03.235538Z",
     "iopub.status.idle": "2024-02-27T06:01:07.304778Z",
     "shell.execute_reply": "2024-02-27T06:01:07.304002Z",
     "shell.execute_reply.started": "2024-02-27T05:55:32.711924Z"
    },
    "papermill": {
     "duration": 4.199138,
     "end_time": "2024-02-27T06:01:07.304936",
     "exception": false,
     "start_time": "2024-02-27T06:01:03.105798",
     "status": "completed"
    },
    "tags": []
   },
   "outputs": [
    {
     "name": "stdout",
     "output_type": "stream",
     "text": [
      "Model is: RandomForestRegressor()\n",
      "Training score: 0.9518905338628493\n",
      "Predictions are: [ 8498.32       17033.69       13786.33516667 ...  3866.52\n",
      "  5546.42       10648.115     ]\n",
      "\n",
      "\n",
      "r2 score is: 0.8411299450440661\n",
      "MAE:1086.590350890751\n",
      "MSE:3059150.5512718875\n",
      "RMSE:1749.0427528427906\n"
     ]
    },
    {
     "data": {
      "image/png": "[encoded data removed]",
      "text/plain": [
       "<Figure size 432x288 with 1 Axes>"
      ]
     },
     "metadata": {
      "needs_background": "light"
     },
     "output_type": "display_data"
    }
   ],
   "source": [
    "predict(RandomForestRegressor())"
   ]
  },
  {
   "cell_type": "markdown",
   "id": "devoted-highland",
   "metadata": {
    "papermill": {
     "duration": 0.126315,
     "end_time": "2024-02-27T06:01:07.555922",
     "exception": false,
     "start_time": "2024-02-27T06:01:07.429607",
     "status": "completed"
    },
    "tags": []
   },
   "source": [
    "<a id = '5.5'></a>\n",
    "<p style = \"font-size : 20px; color : #000080 ; font-family : 'Comic Sans MS'; border-radius: 5px 5px;\"><strong>8.2 Gradient Boosting Model</strong></p>"
   ]
  },
  {
   "cell_type": "code",
   "execution_count": 76,
   "id": "identified-dutch",
   "metadata": {
    "execution": {
     "iopub.execute_input": "2024-02-27T06:01:07.819848Z",
     "iopub.status.busy": "2024-02-27T06:01:07.818519Z",
     "iopub.status.idle": "2024-02-27T06:01:09.268455Z",
     "shell.execute_reply": "2024-02-27T06:01:09.267597Z",
     "shell.execute_reply.started": "2024-02-27T05:57:30.885021Z"
    },
    "papermill": {
     "duration": 1.58421,
     "end_time": "2024-02-27T06:01:09.268624",
     "exception": false,
     "start_time": "2024-02-27T06:01:07.684414",
     "status": "completed"
    },
    "tags": []
   },
   "outputs": [
    {
     "name": "stdout",
     "output_type": "stream",
     "text": [
      "Model is: GradientBoostingRegressor()\n",
      "Training score: 0.8004872305794601\n",
      "Predictions are: [ 5702.86974497 17826.76035345 12133.74946613 ...  4547.37535805\n",
      "  6959.32889786 11428.58468176]\n",
      "\n",
      "\n",
      "r2 score is: 0.8168035494452764\n",
      "MAE:1397.5025476107276\n",
      "MSE:3527571.7809815193\n",
      "RMSE:1878.1831063507943\n"
     ]
    },
    {
     "data": {
      "image/png": "[encoded data removed]",
      "text/plain": [
       "<Figure size 432x288 with 1 Axes>"
      ]
     },
     "metadata": {
      "needs_background": "light"
     },
     "output_type": "display_data"
    }
   ],
   "source": [
    "predict(GradientBoostingRegressor())"
   ]
  },
  {
   "cell_type": "markdown",
   "id": "proper-boston",
   "metadata": {
    "papermill": {
     "duration": 0.125085,
     "end_time": "2024-02-27T06:01:09.522428",
     "exception": false,
     "start_time": "2024-02-27T06:01:09.397343",
     "status": "completed"
    },
    "tags": []
   },
   "source": [
    "<a id = '5.5'></a>\n",
    "<p style = \"font-size : 30px; color : #000080 ; font-family : 'Comic Sans MS'; text-align : center; border-radius: 5px 5px;\"><strong>THE PROJECT IS DONE !!!</strong></p>"
   ]
  }
 ],
 "metadata": {
  "kaggle": {
   "accelerator": "none",
   "dataSources": [
    {
     "datasetId": 140442,
     "sourceId": 330428,
     "sourceType": "datasetVersion"
    }
   ],
   "dockerImageVersionId": 30096,
   "isGpuEnabled": false,
   "isInternetEnabled": true,
   "language": "python",
   "sourceType": "notebook"
  },
  "kernelspec": {
   "display_name": "Python 3",
   "language": "python",
   "name": "python3"
  },
  "language_info": {
   "codemirror_mode": {
    "name": "ipython",
    "version": 3
   },
   "file_extension": ".py",
   "mimetype": "text/x-python",
   "name": "python",
   "nbconvert_exporter": "python",
   "pygments_lexer": "ipython3",
   "version": "3.7.10"
  },
  "papermill": {
   "default_parameters": {},
   "duration": 122.132598,
   "end_time": "2024-02-27T06:01:10.563094",
   "environment_variables": {},
   "exception": null,
   "input_path": "__notebook__.ipynb",
   "output_path": "__notebook__.ipynb",
   "parameters": {},
   "start_time": "2024-02-27T05:59:08.430496",
   "version": "2.3.3"
  }
 },
 "nbformat": 4,
 "nbformat_minor": 5
}
